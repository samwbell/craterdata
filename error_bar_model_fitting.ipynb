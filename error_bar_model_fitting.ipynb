{
 "cells": [
  {
   "cell_type": "code",
   "execution_count": 1,
   "id": "3cad5a3a",
   "metadata": {},
   "outputs": [],
   "source": [
    "import pandas as pd\n",
    "import numpy as np\n",
    "import matplotlib.pyplot as plt\n",
    "from matplotlib.lines import Line2D\n",
    "import math\n",
    "from scipy.stats.mstats import gmean\n",
    "from scipy.stats import gamma, poisson, linregress, beta, norm, lognorm\n",
    "from scipy import optimize\n",
    "import time\n",
    "import random\n",
    "import pickle as pkl\n",
    "from cratrcountr import *\n",
    "%matplotlib inline"
   ]
  },
  {
   "cell_type": "code",
   "execution_count": 2,
   "id": "bb23b77f",
   "metadata": {},
   "outputs": [
    {
     "name": "stdout",
     "output_type": "stream",
     "text": [
      "0.00131 seconds\n"
     ]
    }
   ],
   "source": [
    "t1 = time.time()\n",
    "N_array = np.logspace(-2, 8, 3000)\n",
    "if False:\n",
    "    error_bar_matrix = np.array([\n",
    "        error_bar_log_N(N, n_points=1000000, log_spacing=True) \n",
    "        for N in N_array\n",
    "    ])\n",
    "    with open('saved/error_bar_matrix.pkl', 'wb') as f:\n",
    "        pkl.dump(error_bar_matrix, f)\n",
    "else:\n",
    "    with open('saved/error_bar_matrix.pkl', 'rb') as f:\n",
    "        error_bar_matrix = pkl.load(f)\n",
    "t2 = time.time()\n",
    "print(format_runtime(t2 - t1))"
   ]
  },
  {
   "cell_type": "code",
   "execution_count": 3,
   "id": "4f67f219",
   "metadata": {},
   "outputs": [
    {
     "name": "stdout",
     "output_type": "stream",
     "text": [
      "0.00042 seconds\n"
     ]
    }
   ],
   "source": [
    "t1 = time.time()\n",
    "N_array = np.logspace(-2, 8, 3000)\n",
    "if False:\n",
    "    linear_error_bar_matrix = np.array([\n",
    "        error_bar_linear_N(N, n_points=1000000, log_spacing=False) \n",
    "        for N in N_array\n",
    "    ])\n",
    "    with open('saved/linear_error_bar_matrix.pkl', 'wb') as f:\n",
    "        pkl.dump(linear_error_bar_matrix, f)\n",
    "else:\n",
    "    with open('saved/linear_error_bar_matrix.pkl', 'rb') as f:\n",
    "        linear_error_bar_matrix = pkl.load(f)\n",
    "t2 = time.time()\n",
    "print(format_runtime(t2 - t1))"
   ]
  },
  {
   "cell_type": "code",
   "execution_count": 4,
   "id": "6b979298-7122-4bcf-ad4d-d125507e2aec",
   "metadata": {},
   "outputs": [
    {
     "name": "stdout",
     "output_type": "stream",
     "text": [
      "43 minutes, 17.53931 seconds\n"
     ]
    }
   ],
   "source": [
    "t1 = time.time()\n",
    "N_array = np.logspace(-2, 8, 3000)\n",
    "if True:\n",
    "    auto_log_error_bar_matrix = np.array([\n",
    "        error_bar_N(\n",
    "            N, n_points=1000000, log_spacing=True, kind='auto log'\n",
    "        ) \n",
    "        for N in N_array\n",
    "    ])\n",
    "    with open('saved/auto_log_error_bar_matrix.pkl', 'wb') as f:\n",
    "        pkl.dump(auto_log_error_bar_matrix, f)\n",
    "else:\n",
    "    with open('saved/auto_log_error_bar_matrix.pkl', 'rb') as f:\n",
    "        auto_log_error_bar_matrix = pkl.load(f)\n",
    "t2 = time.time()\n",
    "print(format_runtime(t2 - t1))"
   ]
  },
  {
   "cell_type": "code",
   "execution_count": 5,
   "id": "208e82af-7e5c-4dfc-b8f8-c670a69fef7b",
   "metadata": {},
   "outputs": [
    {
     "name": "stdout",
     "output_type": "stream",
     "text": [
      "50 minutes, 2.79472 seconds\n"
     ]
    }
   ],
   "source": [
    "t1 = time.time()\n",
    "N_array = np.logspace(-2, 8, 3000)\n",
    "if True:\n",
    "    median_error_bar_matrix = np.array([\n",
    "        error_bar_N(\n",
    "            N, n_points=1000000, log_spacing=False, kind='median'\n",
    "        ) \n",
    "        for N in N_array\n",
    "    ])\n",
    "    with open('saved/median_error_bar_matrix.pkl', 'wb') as f:\n",
    "        pkl.dump(median_error_bar_matrix, f)\n",
    "else:\n",
    "    with open('saved/median_error_bar_matrix.pkl', 'rb') as f:\n",
    "        median_error_bar_matrix = pkl.load(f)\n",
    "t2 = time.time()\n",
    "print(format_runtime(t2 - t1))"
   ]
  },
  {
   "cell_type": "code",
   "execution_count": 6,
   "id": "c154cb63-4ba4-418b-817f-1e65f8e267da",
   "metadata": {},
   "outputs": [
    {
     "name": "stdout",
     "output_type": "stream",
     "text": [
      "49 minutes, 36.36053 seconds\n"
     ]
    }
   ],
   "source": [
    "t1 = time.time()\n",
    "N_array = np.logspace(-2, 8, 3000)\n",
    "if True:\n",
    "    mean_error_bar_matrix = np.array([\n",
    "        error_bar_N(\n",
    "            N, n_points=1000000, log_spacing=False, kind='mean'\n",
    "        ) \n",
    "        for N in N_array\n",
    "    ])\n",
    "    with open('saved/mean_error_bar_matrix.pkl', 'wb') as f:\n",
    "        pkl.dump(mean_error_bar_matrix, f)\n",
    "else:\n",
    "    with open('saved/mean_error_bar_matrix.pkl', 'rb') as f:\n",
    "        mean_error_bar_matrix = pkl.load(f)\n",
    "t2 = time.time()\n",
    "print(format_runtime(t2 - t1))"
   ]
  },
  {
   "cell_type": "code",
   "execution_count": 7,
   "id": "f8cacee7-7086-4d04-a974-43711fd6aec7",
   "metadata": {},
   "outputs": [],
   "source": [
    "X = np.log10(N_array)\n",
    "Y_lower = np.log10(error_bar_matrix[:, 0])\n",
    "Y_upper = np.log10(error_bar_matrix[:, 1])\n",
    "\n",
    "inc = 0.1\n",
    "edges = np.concat([\n",
    "    np.arange(-2, 1 + inc, inc), np.array([2, 3, 4, 8])\n",
    "])\n",
    "lower_PPFit = get_PPFit(X, Y_lower, edges, polynomial_degree_7)\n",
    "upper_PPFit = get_PPFit(X, Y_upper, edges, polynomial_degree_7)"
   ]
  },
  {
   "cell_type": "code",
   "execution_count": 8,
   "id": "a4728c28-118e-4c73-8739-2cfda3b05a72",
   "metadata": {},
   "outputs": [
    {
     "data": {
      "text/plain": [
       "(-2e-06, 2e-06)"
      ]
     },
     "execution_count": 8,
     "metadata": {},
     "output_type": "execute_result"
    },
    {
     "data": {
      "image/png": "[encoded data removed]",
      "text/plain": [
       "<Figure size 640x480 with 1 Axes>"
      ]
     },
     "metadata": {},
     "output_type": "display_data"
    }
   ],
   "source": [
    "plt.plot(X, Y_lower - lower_PPFit.apply(X))\n",
    "plt.plot(X, Y_upper - upper_PPFit.apply(X))\n",
    "plt.ylim([-2E-6, 2E-6])"
   ]
  },
  {
   "cell_type": "code",
   "execution_count": 9,
   "id": "53b81098",
   "metadata": {},
   "outputs": [],
   "source": [
    "X = np.log10(N_array)\n",
    "Y_lower_linear = np.log10(linear_error_bar_matrix[:, 0])\n",
    "Y_upper_linear = np.log10(linear_error_bar_matrix[:, 1])\n",
    "\n",
    "inc = 0.1\n",
    "edges = np.concat([\n",
    "    np.arange(-2, 1 + inc, inc), np.array([2, 3, 4, 8])\n",
    "])\n",
    "lower_PPFit_linear = get_PPFit(\n",
    "    X, Y_lower_linear, edges, polynomial_degree_7\n",
    ")\n",
    "upper_PPFit_linear = get_PPFit(\n",
    "    X, Y_upper_linear, edges, polynomial_degree_7\n",
    ")"
   ]
  },
  {
   "cell_type": "code",
   "execution_count": 10,
   "id": "5b72b9ac-fee4-4627-9f7d-0ac94740a0a5",
   "metadata": {},
   "outputs": [
    {
     "data": {
      "text/plain": [
       "(-2e-06, 2e-06)"
      ]
     },
     "execution_count": 10,
     "metadata": {},
     "output_type": "execute_result"
    },
    {
     "data": {
      "image/png": "[encoded data removed]",
      "text/plain": [
       "<Figure size 640x480 with 1 Axes>"
      ]
     },
     "metadata": {},
     "output_type": "display_data"
    }
   ],
   "source": [
    "plt.plot(X, Y_lower_linear - lower_PPFit_linear.apply(X))\n",
    "plt.plot(X, Y_upper_linear - upper_PPFit_linear.apply(X))\n",
    "plt.ylim([-2E-6, 2E-6])"
   ]
  },
  {
   "cell_type": "code",
   "execution_count": 11,
   "id": "5c2f1abd-5058-4d5b-8f78-1085eeaa307b",
   "metadata": {},
   "outputs": [],
   "source": [
    "save_PPFit(lower_PPFit, 'saved/lower_PPFit')\n",
    "save_PPFit(upper_PPFit, 'saved/upper_PPFit')\n",
    "save_PPFit(lower_PPFit_linear, 'saved/lower_PPFit_linear')\n",
    "save_PPFit(upper_PPFit_linear, 'saved/upper_PPFit_linear')"
   ]
  },
  {
   "cell_type": "code",
   "execution_count": 12,
   "id": "b68ba8f7-b81b-4afa-9098-0ee620c01477",
   "metadata": {},
   "outputs": [
    {
     "ename": "RuntimeError",
     "evalue": "Optimal parameters not found: Number of calls to function has reached maxfev = 1800.",
     "output_type": "error",
     "traceback": [
      "\u001b[0;31m---------------------------------------------------------------------------\u001b[0m",
      "\u001b[0;31mRuntimeError\u001b[0m                              Traceback (most recent call last)",
      "Cell \u001b[0;32mIn[12], line 10\u001b[0m\n\u001b[1;32m      6\u001b[0m inc \u001b[38;5;241m=\u001b[39m \u001b[38;5;241m0.1\u001b[39m\n\u001b[1;32m      7\u001b[0m edges \u001b[38;5;241m=\u001b[39m np\u001b[38;5;241m.\u001b[39mconcat([\n\u001b[1;32m      8\u001b[0m     np\u001b[38;5;241m.\u001b[39marange(\u001b[38;5;241m-\u001b[39m\u001b[38;5;241m2\u001b[39m, \u001b[38;5;241m1\u001b[39m \u001b[38;5;241m+\u001b[39m inc, inc), np\u001b[38;5;241m.\u001b[39marray([\u001b[38;5;241m2\u001b[39m, \u001b[38;5;241m3\u001b[39m, \u001b[38;5;241m4\u001b[39m, \u001b[38;5;241m8\u001b[39m])\n\u001b[1;32m      9\u001b[0m ])\n\u001b[0;32m---> 10\u001b[0m val_PPFit_auto_log \u001b[38;5;241m=\u001b[39m \u001b[43mget_PPFit\u001b[49m\u001b[43m(\u001b[49m\n\u001b[1;32m     11\u001b[0m \u001b[43m    \u001b[49m\u001b[43mX\u001b[49m\u001b[43m,\u001b[49m\u001b[43m \u001b[49m\u001b[43mY_val_auto_log\u001b[49m\u001b[43m,\u001b[49m\u001b[43m \u001b[49m\u001b[43medges\u001b[49m\u001b[43m,\u001b[49m\u001b[43m \u001b[49m\u001b[43mpolynomial_degree_7\u001b[49m\n\u001b[1;32m     12\u001b[0m \u001b[43m)\u001b[49m\n\u001b[1;32m     13\u001b[0m lower_PPFit_auto_log \u001b[38;5;241m=\u001b[39m get_PPFit(\n\u001b[1;32m     14\u001b[0m     X, Y_lower_auto_log, edges, polynomial_degree_7\n\u001b[1;32m     15\u001b[0m )\n\u001b[1;32m     16\u001b[0m upper_PPFit_auto_log \u001b[38;5;241m=\u001b[39m get_PPFit(\n\u001b[1;32m     17\u001b[0m     X, Y_upper_auto_log, edges, polynomial_degree_7\n\u001b[1;32m     18\u001b[0m )\n",
      "File \u001b[0;32m~/Data/chronology/cratrcountr/cratrcountr/fit_module.py:100\u001b[0m, in \u001b[0;36mget_PPFit\u001b[0;34m(X, Y, edges, eq)\u001b[0m\n\u001b[1;32m     98\u001b[0m \u001b[38;5;28;01mdef\u001b[39;00m \u001b[38;5;21mget_PPFit\u001b[39m(X, Y, edges, eq):\n\u001b[1;32m     99\u001b[0m     fits \u001b[38;5;241m=\u001b[39m [\n\u001b[0;32m--> 100\u001b[0m         \u001b[43mget_fit\u001b[49m\u001b[43m(\u001b[49m\n\u001b[1;32m    101\u001b[0m \u001b[43m            \u001b[49m\u001b[43meq\u001b[49m\u001b[43m,\u001b[49m\u001b[43m \u001b[49m\n\u001b[1;32m    102\u001b[0m \u001b[43m            \u001b[49m\u001b[43mX\u001b[49m\u001b[43m[\u001b[49m\u001b[43m(\u001b[49m\u001b[43mX\u001b[49m\u001b[43m \u001b[49m\u001b[38;5;241;43m>\u001b[39;49m\u001b[38;5;241;43m=\u001b[39;49m\u001b[43m \u001b[49m\u001b[43medges\u001b[49m\u001b[43m[\u001b[49m\u001b[43mi\u001b[49m\u001b[43m]\u001b[49m\u001b[43m)\u001b[49m\u001b[43m \u001b[49m\u001b[38;5;241;43m&\u001b[39;49m\u001b[43m \u001b[49m\u001b[43m(\u001b[49m\u001b[43mX\u001b[49m\u001b[43m \u001b[49m\u001b[38;5;241;43m<\u001b[39;49m\u001b[43m \u001b[49m\u001b[43medges\u001b[49m\u001b[43m[\u001b[49m\u001b[43mi\u001b[49m\u001b[43m \u001b[49m\u001b[38;5;241;43m+\u001b[39;49m\u001b[43m \u001b[49m\u001b[38;5;241;43m1\u001b[39;49m\u001b[43m]\u001b[49m\u001b[43m)\u001b[49m\u001b[43m]\u001b[49m\u001b[43m,\u001b[49m\u001b[43m \u001b[49m\n\u001b[1;32m    103\u001b[0m \u001b[43m            \u001b[49m\u001b[43mY\u001b[49m\u001b[43m[\u001b[49m\u001b[43m(\u001b[49m\u001b[43mX\u001b[49m\u001b[43m \u001b[49m\u001b[38;5;241;43m>\u001b[39;49m\u001b[38;5;241;43m=\u001b[39;49m\u001b[43m \u001b[49m\u001b[43medges\u001b[49m\u001b[43m[\u001b[49m\u001b[43mi\u001b[49m\u001b[43m]\u001b[49m\u001b[43m)\u001b[49m\u001b[43m \u001b[49m\u001b[38;5;241;43m&\u001b[39;49m\u001b[43m \u001b[49m\u001b[43m(\u001b[49m\u001b[43mX\u001b[49m\u001b[43m \u001b[49m\u001b[38;5;241;43m<\u001b[39;49m\u001b[43m \u001b[49m\u001b[43medges\u001b[49m\u001b[43m[\u001b[49m\u001b[43mi\u001b[49m\u001b[43m \u001b[49m\u001b[38;5;241;43m+\u001b[39;49m\u001b[43m \u001b[49m\u001b[38;5;241;43m1\u001b[39;49m\u001b[43m]\u001b[49m\u001b[43m)\u001b[49m\u001b[43m]\u001b[49m\n\u001b[1;32m    104\u001b[0m \u001b[43m        \u001b[49m\u001b[43m)\u001b[49m\n\u001b[1;32m    105\u001b[0m         \u001b[38;5;28;01mfor\u001b[39;00m i \u001b[38;5;129;01min\u001b[39;00m \u001b[38;5;28mrange\u001b[39m(edges\u001b[38;5;241m.\u001b[39mshape[\u001b[38;5;241m0\u001b[39m] \u001b[38;5;241m-\u001b[39m \u001b[38;5;241m1\u001b[39m)\n\u001b[1;32m    106\u001b[0m     ]\n\u001b[1;32m    107\u001b[0m     \u001b[38;5;28;01mreturn\u001b[39;00m PiecewisePolynomialFit(fits, edges)\n",
      "File \u001b[0;32m~/Data/chronology/cratrcountr/cratrcountr/fit_module.py:26\u001b[0m, in \u001b[0;36mget_fit\u001b[0;34m(eq, X, Y, p0, bounds)\u001b[0m\n\u001b[1;32m     24\u001b[0m \u001b[38;5;28;01mdef\u001b[39;00m \u001b[38;5;21mget_fit\u001b[39m(eq, X, Y, p0\u001b[38;5;241m=\u001b[39m\u001b[38;5;28;01mNone\u001b[39;00m, bounds\u001b[38;5;241m=\u001b[39m\u001b[38;5;28;01mNone\u001b[39;00m):\n\u001b[1;32m     25\u001b[0m     \u001b[38;5;28;01mif\u001b[39;00m bounds \u001b[38;5;129;01mis\u001b[39;00m \u001b[38;5;28;01mNone\u001b[39;00m:\n\u001b[0;32m---> 26\u001b[0m         result, cov \u001b[38;5;241m=\u001b[39m \u001b[43moptimize\u001b[49m\u001b[38;5;241;43m.\u001b[39;49m\u001b[43mcurve_fit\u001b[49m\u001b[43m(\u001b[49m\u001b[43meq\u001b[49m\u001b[43m,\u001b[49m\u001b[43m \u001b[49m\u001b[43mX\u001b[49m\u001b[43m,\u001b[49m\u001b[43m \u001b[49m\u001b[43mY\u001b[49m\u001b[43m,\u001b[49m\u001b[43m \u001b[49m\u001b[43mp0\u001b[49m\u001b[38;5;241;43m=\u001b[39;49m\u001b[43mp0\u001b[49m\u001b[43m)\u001b[49m\n\u001b[1;32m     27\u001b[0m     \u001b[38;5;28;01melse\u001b[39;00m:\n\u001b[1;32m     28\u001b[0m         result, cov \u001b[38;5;241m=\u001b[39m optimize\u001b[38;5;241m.\u001b[39mcurve_fit(eq, X, Y, p0\u001b[38;5;241m=\u001b[39mp0, bounds\u001b[38;5;241m=\u001b[39mbounds)\n",
      "File \u001b[0;32m~/Library/Python/3.12/lib/python/site-packages/scipy/optimize/_minpack_py.py:1012\u001b[0m, in \u001b[0;36mcurve_fit\u001b[0;34m(f, xdata, ydata, p0, sigma, absolute_sigma, check_finite, bounds, method, jac, full_output, nan_policy, **kwargs)\u001b[0m\n\u001b[1;32m   1010\u001b[0m     cost \u001b[38;5;241m=\u001b[39m np\u001b[38;5;241m.\u001b[39msum(infodict[\u001b[38;5;124m'\u001b[39m\u001b[38;5;124mfvec\u001b[39m\u001b[38;5;124m'\u001b[39m] \u001b[38;5;241m*\u001b[39m\u001b[38;5;241m*\u001b[39m \u001b[38;5;241m2\u001b[39m)\n\u001b[1;32m   1011\u001b[0m     \u001b[38;5;28;01mif\u001b[39;00m ier \u001b[38;5;129;01mnot\u001b[39;00m \u001b[38;5;129;01min\u001b[39;00m [\u001b[38;5;241m1\u001b[39m, \u001b[38;5;241m2\u001b[39m, \u001b[38;5;241m3\u001b[39m, \u001b[38;5;241m4\u001b[39m]:\n\u001b[0;32m-> 1012\u001b[0m         \u001b[38;5;28;01mraise\u001b[39;00m \u001b[38;5;167;01mRuntimeError\u001b[39;00m(\u001b[38;5;124m\"\u001b[39m\u001b[38;5;124mOptimal parameters not found: \u001b[39m\u001b[38;5;124m\"\u001b[39m \u001b[38;5;241m+\u001b[39m errmsg)\n\u001b[1;32m   1013\u001b[0m \u001b[38;5;28;01melse\u001b[39;00m:\n\u001b[1;32m   1014\u001b[0m     \u001b[38;5;66;03m# Rename maxfev (leastsq) to max_nfev (least_squares), if specified.\u001b[39;00m\n\u001b[1;32m   1015\u001b[0m     \u001b[38;5;28;01mif\u001b[39;00m \u001b[38;5;124m'\u001b[39m\u001b[38;5;124mmax_nfev\u001b[39m\u001b[38;5;124m'\u001b[39m \u001b[38;5;129;01mnot\u001b[39;00m \u001b[38;5;129;01min\u001b[39;00m kwargs:\n",
      "\u001b[0;31mRuntimeError\u001b[0m: Optimal parameters not found: Number of calls to function has reached maxfev = 1800."
     ]
    }
   ],
   "source": [
    "X = np.log10(N_array)\n",
    "Y_val_auto_log = auto_log_error_bar_matrix[:, 0]\n",
    "Y_lower_auto_log = np.log10(auto_log_error_bar_matrix[:, 1])\n",
    "Y_upper_auto_log = np.log10(auto_log_error_bar_matrix[:, 2])\n",
    "\n",
    "inc = 0.1\n",
    "edges = np.concat([\n",
    "    np.arange(-2, 1 + inc, inc), np.array([2, 3, 4, 8])\n",
    "])\n",
    "val_PPFit_auto_log = get_PPFit(\n",
    "    X, Y_val_auto_log, edges, polynomial_degree_7\n",
    ")\n",
    "lower_PPFit_auto_log = get_PPFit(\n",
    "    X, Y_lower_auto_log, edges, polynomial_degree_7\n",
    ")\n",
    "upper_PPFit_auto_log = get_PPFit(\n",
    "    X, Y_upper_auto_log, edges, polynomial_degree_7\n",
    ")\n"
   ]
  },
  {
   "cell_type": "code",
   "execution_count": null,
   "id": "4ecd0026-843d-4f47-a5b9-8db36be9f6b2",
   "metadata": {},
   "outputs": [],
   "source": [
    "plt.plot(X, Y_val_auto_log - val_PPFit_auto_log.apply(X))\n",
    "plt.plot(X, Y_lower_auto_log - lower_PPFit_auto_log.apply(X))\n",
    "plt.plot(X, Y_upper_auto_log - upper_PPFit_auto_log.apply(X))\n",
    "plt.ylim([-2E-2, 2E-2])"
   ]
  },
  {
   "cell_type": "code",
   "execution_count": null,
   "id": "05836e05-1e8d-422b-b7f2-18270496aa99",
   "metadata": {},
   "outputs": [],
   "source": [
    "X = np.log10(N_array)\n",
    "Y_val_median = np.log10(median_error_bar_matrix[:, 0])\n",
    "Y_lower_median = np.log10(median_error_bar_matrix[:, 1])\n",
    "Y_upper_median = np.log10(median_error_bar_matrix[:, 2])\n",
    "\n",
    "inc = 0.1\n",
    "edges = np.concat([\n",
    "    np.arange(-2, 1 + inc, inc), np.array([2, 3, 4, 8])\n",
    "])\n",
    "val_PPFit_median = get_PPFit(\n",
    "    X, Y_val_median, edges, polynomial_degree_7\n",
    ")\n",
    "lower_PPFit_median = get_PPFit(\n",
    "    X, Y_lower_median, edges, polynomial_degree_7\n",
    ")\n",
    "upper_PPFit_median = get_PPFit(\n",
    "    X, Y_upper_median, edges, polynomial_degree_7\n",
    ")"
   ]
  },
  {
   "cell_type": "code",
   "execution_count": null,
   "id": "71b59f1a-2095-4341-a0ee-e65dbb9bb5d4",
   "metadata": {},
   "outputs": [],
   "source": [
    "plt.plot(X, Y_val_median - val_PPFit_median.apply(X))\n",
    "plt.plot(X, Y_lower_median - lower_PPFit_median.apply(X))\n",
    "plt.plot(X, Y_upper_median - upper_PPFit_median.apply(X))\n",
    "plt.ylim([-2E-6, 2E-6])"
   ]
  },
  {
   "cell_type": "code",
   "execution_count": null,
   "id": "3233957c-98d7-4cee-814f-6d3b41ea5adf",
   "metadata": {},
   "outputs": [],
   "source": [
    "X = np.log10(N_array)\n",
    "Y_val_mean = np.log10(mean_error_bar_matrix[:, 0])\n",
    "Y_std_mean = np.log10(mean_error_bar_matrix[:, 1])\n",
    "Y_skewness_mean = np.log10(mean_error_bar_matrix[:, 2])\n",
    "\n",
    "inc = 0.1\n",
    "edges = np.concat([\n",
    "    np.arange(-2, 1 + inc, inc), np.array([2, 3, 4, 8])\n",
    "])\n",
    "val_PPFit_mean = get_PPFit(\n",
    "    X, Y_val_mean, edges, polynomial_degree_7\n",
    ")\n",
    "std_PPFit_mean = get_PPFit(\n",
    "    X, Y_std_mean, edges, polynomial_degree_7\n",
    ")\n",
    "skewness_PPFit_mean = get_PPFit(\n",
    "    X, Y_skewness_mean, edges, polynomial_degree_7\n",
    ")"
   ]
  },
  {
   "cell_type": "code",
   "execution_count": null,
   "id": "24efc6d7-a437-496b-9afc-035d781f7829",
   "metadata": {},
   "outputs": [],
   "source": [
    "plt.plot(X, Y_val_mean - val_PPFit_mean.apply(X))\n",
    "plt.plot(X, Y_std_mean - std_PPFit_mean.apply(X))\n",
    "plt.plot(X, Y_skewness_mean - skewness_PPFit_mean.apply(X))\n",
    "plt.ylim([-2E-6, 2E-6])"
   ]
  },
  {
   "cell_type": "code",
   "execution_count": null,
   "id": "61b27b28-01c3-44fa-894e-e688153dbfdd",
   "metadata": {},
   "outputs": [],
   "source": []
  }
 ],
 "metadata": {
  "kernelspec": {
   "display_name": "Python 3 (ipykernel)",
   "language": "python",
   "name": "python3"
  },
  "language_info": {
   "codemirror_mode": {
    "name": "ipython",
    "version": 3
   },
   "file_extension": ".py",
   "mimetype": "text/x-python",
   "name": "python",
   "nbconvert_exporter": "python",
   "pygments_lexer": "ipython3",
   "version": "3.12.4"
  }
 },
 "nbformat": 4,
 "nbformat_minor": 5
}
