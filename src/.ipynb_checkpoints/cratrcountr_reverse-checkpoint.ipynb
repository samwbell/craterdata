{
 "cells": [
  {
   "cell_type": "code",
   "execution_count": 2,
   "id": "cd6ef5d7",
   "metadata": {},
   "outputs": [
    {
     "ename": "ModuleNotFoundError",
     "evalue": "No module named 'cratrcountr'",
     "output_type": "error",
     "traceback": [
      "\u001b[0;31m---------------------------------------------------------------------------\u001b[0m",
      "\u001b[0;31mModuleNotFoundError\u001b[0m                       Traceback (most recent call last)",
      "\u001b[0;32m/var/folders/h1/c6fm27mx0_s2s16rjtynr_hw0000gn/T/ipykernel_15569/2764204534.py\u001b[0m in \u001b[0;36m<module>\u001b[0;34m\u001b[0m\n\u001b[1;32m     13\u001b[0m \u001b[0;32mimport\u001b[0m \u001b[0mrandom\u001b[0m\u001b[0;34m\u001b[0m\u001b[0;34m\u001b[0m\u001b[0m\n\u001b[1;32m     14\u001b[0m \u001b[0;32mimport\u001b[0m \u001b[0mpickle\u001b[0m \u001b[0;32mas\u001b[0m \u001b[0mpkl\u001b[0m\u001b[0;34m\u001b[0m\u001b[0;34m\u001b[0m\u001b[0m\n\u001b[0;32m---> 15\u001b[0;31m \u001b[0;32mfrom\u001b[0m \u001b[0mcratrcountr\u001b[0m \u001b[0;32mimport\u001b[0m \u001b[0;34m*\u001b[0m\u001b[0;34m\u001b[0m\u001b[0;34m\u001b[0m\u001b[0m\n\u001b[0m\u001b[1;32m     16\u001b[0m \u001b[0mget_ipython\u001b[0m\u001b[0;34m(\u001b[0m\u001b[0;34m)\u001b[0m\u001b[0;34m.\u001b[0m\u001b[0mrun_line_magic\u001b[0m\u001b[0;34m(\u001b[0m\u001b[0;34m'matplotlib'\u001b[0m\u001b[0;34m,\u001b[0m \u001b[0;34m'inline'\u001b[0m\u001b[0;34m)\u001b[0m\u001b[0;34m\u001b[0m\u001b[0;34m\u001b[0m\u001b[0m\n",
      "\u001b[0;31mModuleNotFoundError\u001b[0m: No module named 'cratrcountr'"
     ]
    }
   ],
   "source": [
    "import pandas as pd\n",
    "import numpy as np\n",
    "import matplotlib.pyplot as plt\n",
    "from matplotlib.lines import Line2D\n",
    "import matplotlib.gridspec as gridspec\n",
    "from matplotlib.ticker import ScalarFormatter\n",
    "import math\n",
    "from scipy.stats.mstats import gmean\n",
    "from scipy.stats import gamma, poisson, linregress, beta, norm\n",
    "from scipy import optimize\n",
    "from scipy import interpolate\n",
    "import time\n",
    "import random\n",
    "import pickle as pkl\n",
    "from cratrcountr import *\n",
    "%matplotlib inline"
   ]
  },
  {
   "cell_type": "code",
   "execution_count": null,
   "id": "8b535548",
   "metadata": {},
   "outputs": [],
   "source": [
    "# Warning: The volume of data produced here is extremely large.  Some computers\n",
    "# may not be able to load it.  Make sure you have enough RAM.  Or run it in pieces.\n",
    "\n",
    "mt1 = time.time()\n",
    "\n",
    "model_lambda = 20\n",
    "N1 = 0.001\n",
    "synth_area = 10000\n",
    "slope_list = np.linspace(-4, -0.1, 40)\n",
    "\n",
    "if False:\n",
    "    t1 = time.time()\n",
    "    slope_model_ds = [synth_data(model_lambda=model_lambda, \n",
    "                                 area=synth_area, runtime_off=True,\n",
    "                                 loglog_production_function=loglog_linear_pf(N1=N1, slope=slope),\n",
    "                                 dmin=1, dmax=10**min(-7.0 / slope, 15), \n",
    "                                 n_steps=100000, inc=0.001 * min(-7.0 / slope, 15) / 3.5) \n",
    "                      for slope in slope_list]\n",
    "    t2 = time.time()\n",
    "    print('Synthetic Generation Runtime: ' + format_runtime(t2 - t1))\n",
    "    \n",
    "    t1 = time.time()\n",
    "    slope_results_list = [model_fitting_error(\n",
    "                         synth_tuple[0], synth_tuple[1], synth_area,\n",
    "                         loglog_production_function=loglog_linear_pf(N1=N1, slope=-2.0),\n",
    "                         bin_width_exponent=neukum_bwe, use_uncertainties=False,\n",
    "                         plot_type='unbinned corrected', skip_zero_crater_bins=True,\n",
    "                         reference_point=1.0, start_at_reference_point=True, d_min=1.0,\n",
    "                         n_pseudosteps=len(synth_tuple[0]), skip_age=True)\n",
    "                         for synth_tuple in slope_model_ds]\n",
    "    t2 = time.time()\n",
    "    print('Slope Fitting Runtime: ' + format_runtime(t2 - t1))\n",
    "    \n",
    "    with open('slope_results_list.pkl', 'wb') as f:\n",
    "        pkl.dump(slope_results_list, f)\n",
    "    with open('saved/slope_model_ds.pkl', 'wb') as f:\n",
    "        pkl.dump(slope_model_ds, f)\n",
    "    with open('slope_list.pkl', 'wb') as f:\n",
    "        pkl.dump(slope_list, f)\n",
    "else:\n",
    "    with open('saved/slope_model_ds.pkl', 'rb') as f:\n",
    "        slope_model_ds = pkl.load(f)\n",
    "    with open('slope_list.pkl', 'rb') as f:\n",
    "        slope_list = pkl.load(f)\n",
    "    with open('slope_results_list.pkl', 'rb') as f:\n",
    "        slope_results_list = pkl.load(f)\n",
    "    \n",
    "mt2 = time.time()\n",
    "print('Total Runtime: ' + format_runtime(mt2 - mt1))"
   ]
  }
 ],
 "metadata": {
  "kernelspec": {
   "display_name": "Python 3 (ipykernel)",
   "language": "python",
   "name": "python3"
  },
  "language_info": {
   "codemirror_mode": {
    "name": "ipython",
    "version": 3
   },
   "file_extension": ".py",
   "mimetype": "text/x-python",
   "name": "python",
   "nbconvert_exporter": "python",
   "pygments_lexer": "ipython3",
   "version": "3.7.3"
  }
 },
 "nbformat": 4,
 "nbformat_minor": 5
}
