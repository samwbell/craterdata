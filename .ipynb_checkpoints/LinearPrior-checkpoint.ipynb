{
 "cells": [
  {
   "cell_type": "code",
   "execution_count": 1,
   "id": "4e50d8fe-99cc-4973-a85c-b2f9a711802a",
   "metadata": {},
   "outputs": [],
   "source": [
    "import pandas as pd\n",
    "import numpy as np\n",
    "import matplotlib.pyplot as plt\n",
    "from matplotlib.lines import Line2D\n",
    "import matplotlib.gridspec as gridspec\n",
    "from matplotlib.ticker import ScalarFormatter\n",
    "import math\n",
    "from scipy.stats.mstats import gmean\n",
    "from scipy.stats import gamma, poisson, linregress, beta, norm\n",
    "from scipy import optimize\n",
    "from scipy import interpolate\n",
    "import time\n",
    "import random\n",
    "import pickle as pkl\n",
    "from cratrcountr import *\n",
    "from itertools import product\n",
    "from matplotlib.patches import Arrow\n",
    "%matplotlib inline"
   ]
  },
  {
   "cell_type": "code",
   "execution_count": 2,
   "id": "cbe27e52-267c-439a-8b19-a65f6ae8c59e",
   "metadata": {},
   "outputs": [],
   "source": [
    "pf_slope = -2.0\n",
    "pf = loglog_linear_pf(N1=0.001, slope=pf_slope)"
   ]
  },
  {
   "cell_type": "code",
   "execution_count": 3,
   "id": "a18a5210-e4fc-4ca5-afe5-c3c07264d5bb",
   "metadata": {},
   "outputs": [],
   "source": [
    "synth_area = 10000\n",
    "synth_list, synth_age = synth_fixed_N(\n",
    "    20, area=synth_area, pf=pf, dmin=1, dmax=1E5, n_steps=100000\n",
    ")"
   ]
  },
  {
   "cell_type": "code",
   "execution_count": 4,
   "id": "a1d3e40b-71f3-496d-86e4-84361045bb8d",
   "metadata": {},
   "outputs": [],
   "source": [
    "def C_XP(X, P):\n",
    "    non_inf = (X > -1 * np.inf) & (X < 1 * np.inf)\n",
    "    C = P.copy()\n",
    "    C[non_inf] = cumulative_trapezoid(\n",
    "        P[non_inf], X[non_inf], initial=0\n",
    "    )\n",
    "    C[non_inf] = C[non_inf] / C[non_inf].max()\n",
    "    C[X == -1 * np.inf] = 0\n",
    "    C[X == np.inf] = 1\n",
    "    return C\n",
    "\n",
    "\n",
    "def apply2rv_XP(X, P, f):\n",
    "    C = C_XP(X, P)\n",
    "    Y = f(X)\n",
    "    v = np.isfinite(Y) & ~np.isnan(Y)\n",
    "    X, Y, C = X[v], Y[v], C[v]\n",
    "    PY = np.gradient(C, Y)\n",
    "    Y_even_spacing = np.linspace(\n",
    "        Y.min(), Y.max(), Y.shape[0], endpoint=True\n",
    "    )\n",
    "    PY_even_spacing = np.interp(Y_even_spacing, Y, PY)\n",
    "    return Y_even_spacing, PY_even_spacing\n",
    "\n",
    "def error_bar_log_linear_N(N, n_points=100000, log_spacing=False):\n",
    "\n",
    "    X, P = true_error_pdf_XP(\n",
    "            N, n_points=n_points, log_spacing=log_spacing\n",
    "        )\n",
    "    Xlog, Plog = apply2rv_XP(X, P, np.log10)\n",
    "    val = Xlog[np.argmax(Plog)]\n",
    "    left, right = error_bar_linear(Xlog, Plog)\n",
    "\n",
    "    return val, left, right"
   ]
  },
  {
   "cell_type": "code",
   "execution_count": 5,
   "id": "a2fac500-de8b-486e-9722-bebd964007ef",
   "metadata": {},
   "outputs": [
    {
     "data": {
      "text/plain": [
       "(3.0, 0.2929803759778071, 0.21926986180444075)"
      ]
     },
     "execution_count": 5,
     "metadata": {},
     "output_type": "execute_result"
    }
   ],
   "source": [
    "get_error_bars(3, kind='log', log_space=True, return_val=True)"
   ]
  },
  {
   "cell_type": "code",
   "execution_count": 6,
   "id": "e05d9b24-ef48-4a53-bb52-e0c07430db70",
   "metadata": {},
   "outputs": [],
   "source": [
    "_val_PPFit_log_linear = read_PPFit('saved/val_PPFit_log_linear')\n",
    "_lower_PPFit_log_linear = read_PPFit('saved/lower_PPFit_log_linear')\n",
    "_upper_PPFit_log_linear = read_PPFit('saved/upper_PPFit_log_linear')"
   ]
  },
  {
   "cell_type": "code",
   "execution_count": 7,
   "id": "81c44adf-b232-40d9-b369-68f0598401e7",
   "metadata": {},
   "outputs": [
    {
     "name": "stderr",
     "output_type": "stream",
     "text": [
      "/Users/sam/Data/chronology/cratrcountr/cratrcountr/error_module.py:314: RuntimeWarning: invalid value encountered in log10\n",
      "  log_lower = np.log10(N_0_val) - np.log10(N_0_val - N_0_lower)\n"
     ]
    },
    {
     "data": {
      "text/plain": [
       "[<matplotlib.lines.Line2D at 0x122063170>]"
      ]
     },
     "execution_count": 7,
     "metadata": {},
     "output_type": "execute_result"
    },
    {
     "data": {
      "image/png": "[encoded data removed]",
      "text/plain": [
       "<Figure size 640x480 with 1 Axes>"
      ]
     },
     "metadata": {},
     "output_type": "display_data"
    }
   ],
   "source": [
    "sorted_ds, density, lower, upper = fast_calc_cumulative_unbinned(\n",
    "    synth_list[0], synth_area, kind='log linear', \n",
    "    calculate_uncertainties=True, log_space=True\n",
    ")\n",
    "plt.plot(np.log10(sorted_ds), np.log10(density), '.')"
   ]
  },
  {
   "cell_type": "code",
   "execution_count": 21,
   "id": "3b7a6f65-8922-4904-982e-ba9bb61a5496",
   "metadata": {},
   "outputs": [
    {
     "name": "stdout",
     "output_type": "stream",
     "text": [
      "5.70455 seconds\n"
     ]
    }
   ],
   "source": [
    "t1 = time.time()\n",
    "slope_list, switch_list, failure_df = model_fitting_error(\n",
    "    synth_list, synth_age, synth_area, \n",
    "    pf=pf,\n",
    "    bin_width_exponent=neukum_bwe, \n",
    "    use_uncertainties=True, kind='log', \n",
    "    pick_a_side=True, plot_type='unbinned corrected', \n",
    "    d_min=1.0, n_pseudosteps=10000\n",
    ")\n",
    "t2 = time.time()\n",
    "print(format_runtime(t2 - t1))"
   ]
  },
  {
   "cell_type": "code",
   "execution_count": 22,
   "id": "2d628ba9-6599-4eaa-94ff-c0b534e7162d",
   "metadata": {},
   "outputs": [
    {
     "data": {
      "text/plain": [
       "np.float64(-2.0554280029170617)"
      ]
     },
     "execution_count": 22,
     "metadata": {},
     "output_type": "execute_result"
    }
   ],
   "source": [
    "np.mean(slope_list)"
   ]
  },
  {
   "cell_type": "code",
   "execution_count": null,
   "id": "758bbe20-b87f-40f0-8dbd-9d1b11be3973",
   "metadata": {},
   "outputs": [],
   "source": []
  }
 ],
 "metadata": {
  "kernelspec": {
   "display_name": "Python 3 (ipykernel)",
   "language": "python",
   "name": "python3"
  },
  "language_info": {
   "codemirror_mode": {
    "name": "ipython",
    "version": 3
   },
   "file_extension": ".py",
   "mimetype": "text/x-python",
   "name": "python",
   "nbconvert_exporter": "python",
   "pygments_lexer": "ipython3",
   "version": "3.12.4"
  }
 },
 "nbformat": 4,
 "nbformat_minor": 5
}
