{
 "cells": [
  {
   "cell_type": "code",
   "execution_count": null,
   "id": "bc095f4f",
   "metadata": {},
   "outputs": [],
   "source": [
    "def Dvdb(mi, K1, μ, ν, Y, ρt, g, vi, ρi):\n",
    "    return D_final(\n",
    "        Kr,\n",
    "        V(\n",
    "            πV(\n",
    "                K1,\n",
    "                π2(g, mi, vi, ρi),\n",
    "                π3(Y, ρt, vi),\n",
    "                π4(ρt, ρi),\n",
    "                μ,\n",
    "                ν\n",
    "            ),\n",
    "            mi,\n",
    "            ρt\n",
    "        )\n",
    "    )"
   ]
  },
  {
   "cell_type": "code",
   "execution_count": null,
   "id": "dffabe95",
   "metadata": {},
   "outputs": [],
   "source": [
    "Y_ej_vdb, Y_sr_vdb = 6.5E4, 6.9E6\n",
    "ρt_ej_vdb, ρt_sr_vdb = 1500, 3460\n",
    "K1_ej_vdb, K1_sr_vdb = 0.095, 0.132\n",
    "ej_vdb = tuple([K1_ej_vdb, μ_ej, ν, Y_ej_vdb, ρt_ej_vdb])\n",
    "sr_vdb = tuple([K1_sr_vdb, μ_sr, ν, Y_sr_vdb, ρt_sr_vdb])\n",
    "vi_vdb = 17500 * np.cos(math.pi / 4)\n",
    "moon_vdb = tuple([g, vi_vdb, ρi])\n",
    "\n",
    "Dvdb(10*mi, *ej_vdb, *moon_vdb), Dvdb(10*mi, *sr_vdb, *moon_vdb)"
   ]
  },
  {
   "cell_type": "code",
   "execution_count": null,
   "id": "73683493",
   "metadata": {},
   "outputs": [],
   "source": [
    "D(mi, K1, μ, ν, Y0, ρt, g, vi, ρi, D_est=50, n_it=5)"
   ]
  },
  {
   "cell_type": "code",
   "execution_count": null,
   "id": "9eb48c6a",
   "metadata": {},
   "outputs": [],
   "source": [
    "D(10*mi, 0.44, μ_ej, ν, Y0_ej, ρt_ej, g, vi, ρi, D_est=500)"
   ]
  },
  {
   "cell_type": "code",
   "execution_count": null,
   "id": "9aac1382",
   "metadata": {},
   "outputs": [],
   "source": [
    "D(10*mi, 1.05, μ_sr, ν, Y0_sr, ρt_sr, g, vi, ρi, D_est=500)"
   ]
  },
  {
   "cell_type": "code",
   "execution_count": null,
   "id": "4568d4fd",
   "metadata": {},
   "outputs": [],
   "source": [
    "math.pi * (2)**3 / 24"
   ]
  },
  {
   "cell_type": "code",
   "execution_count": null,
   "id": "b987880b",
   "metadata": {},
   "outputs": [],
   "source": [
    "math.pi * (1.6)**3 / 24"
   ]
  },
  {
   "cell_type": "code",
   "execution_count": null,
   "id": "f8ace823",
   "metadata": {},
   "outputs": [],
   "source": [
    "μ_P17 = 0.4\n",
    "eKD = (2 + μ_P17 - 6 * ν) / (3 * (2 + μ_P17))\n",
    "(1.7/3)**eKD"
   ]
  },
  {
   "cell_type": "code",
   "execution_count": null,
   "id": "83db8d41",
   "metadata": {},
   "outputs": [],
   "source": [
    "math.pi * 2.0**3/24 / (3/3)**eKD"
   ]
  },
  {
   "cell_type": "code",
   "execution_count": null,
   "id": "e68f43f6",
   "metadata": {},
   "outputs": [],
   "source": [
    "math.pi * 1.6**3/24 / (2/3)**eKD"
   ]
  },
  {
   "cell_type": "code",
   "execution_count": null,
   "id": "951716fa",
   "metadata": {},
   "outputs": [],
   "source": [
    "def plot_cumulative_unbinned(ds, area, ax=None, color='black', alpha=1.0, plot_lines=True, \n",
    "                             plot_points=False, plot_point_error_bars=False, point_color='same',\n",
    "                             sqrt_N=False, center=False, d_min=None, d_max=10000, \n",
    "                             error_bar_type='log', fill_alpha=0.07, ms=4):\n",
    "    if ax is None:\n",
    "        fig = plt.figure(figsize=(8,8))\n",
    "        ax = fig.add_subplot(111)\n",
    "\n",
    "    plt.rcParams['lines.linewidth'] = 1.0\n",
    "\n",
    "    if point_color == 'same':\n",
    "        p_color = color\n",
    "    else:\n",
    "        p_color = point_color\n",
    "\n",
    "    sorted_ds, density_array = fast_calc_cumulative_unbinned(\n",
    "                                ds, area, calculate_uncertainties=False)\n",
    "    density_array, low_array, high_array, full_ds = get_cumulative_unbinned_lines(\n",
    "            sorted_ds, density_array, area, d_min=d_min, d_max=d_max, sqrt_N=sqrt_N,\n",
    "                error_bar_type=error_bar_type)\n",
    "\n",
    "    if plot_lines:\n",
    "        plt.hlines(density_array, full_ds[:-1], full_ds[1:], color=color)\n",
    "        plt.hlines(low_array, full_ds[:-1], full_ds[1:], linestyles=':', color=color)\n",
    "        plt.hlines(high_array, full_ds[:-1], full_ds[1:], linestyles=':', color=color)\n",
    "        ax.set_xscale('log')\n",
    "        ax.set_yscale('log')\n",
    "        low_fill = np.array([high_array[0] * 0.00000001] + list(low_array)[1:])\n",
    "        ax.fill_between(np.repeat(full_ds, 2)[1:-1], np.repeat(low_fill, 2), \n",
    "                        np.repeat(high_array, 2), facecolor=color, alpha=fill_alpha)\n",
    "\n",
    "    if plot_points or plot_point_error_bars:\n",
    "        point_ds, pdf_list = calc_cumulative_unbinned_pdfs(ds, area, \n",
    "                               center=center, d_min=d_min, sqrt_N=sqrt_N)\n",
    "        plot_pdf_list(point_ds, pdf_list, ax=ax, color=p_color, alpha=alpha, \n",
    "                      plot_error_bars=plot_point_error_bars, plot_points=plot_points,\n",
    "                      error_bar_type=error_bar_type, area=area, ms=ms)\n",
    "\n",
    "    plt.xticks(size=20)\n",
    "    plt.yticks(size=20)\n",
    "\n",
    "    xmax = np.max(sorted_ds)\n",
    "    xmin = np.min(full_ds)\n",
    "    xrange = np.log10(xmax / xmin)\n",
    "    plt.xlim([xmin / (10**(0.05 * xrange)), xmax * 10**(0.5 * xrange)])\n",
    "\n",
    "    ymax = np.nanmax(high_array)\n",
    "    if not sqrt_N:\n",
    "        ymin = np.nanmin(low_array[low_array > 0])\n",
    "    else:\n",
    "        ymin = np.nanmin(density_array) / 10\n",
    "    yrange = np.log10(ymax / ymin)\n",
    "    plt.ylim([ymin / (10**(0.05 * yrange)), ymax * 10**(0.05 * yrange)])\n",
    "\n",
    "    plt.ylabel('Cumulative Crater Density', size=18)\n",
    "    plt.xlabel('Crater Diameter (km)', size=18)\n",
    "\n",
    "    plt.grid(which='major', linestyle=':', linewidth=0.5, color='black')\n",
    "    plt.grid(which='minor', linestyle=':', linewidth=0.25, color='gray')\n",
    "    \n",
    "    return ax"
   ]
  },
  {
   "cell_type": "code",
   "execution_count": null,
   "id": "03137cb0",
   "metadata": {},
   "outputs": [],
   "source": [
    "np.interp(1, ej_d / ej_shift, npf_new(ej_d)) / npf_new(1)\n",
    "\n",
    "npf_new(0.01) / np.interp(0.01, sr_d / sr_shift, npf_new(sr_d))\n",
    "\n",
    "npf_new(0.1) / np.interp(0.1, sr_d / sr_shift, npf_new(sr_d))\n",
    "\n",
    "npf_new(0.3) / np.interp(0.3, sr_d / sr_shift, npf_new(sr_d))\n",
    "\n",
    "npf_new(0.2) / np.interp(0.2, sr_d / sr_shift, npf_new(sr_d))\n",
    "\n",
    "npf_new(0.8) / np.interp(0.8, sr_d / sr_shift, npf_new(sr_d))"
   ]
  }
 ],
 "metadata": {
  "kernelspec": {
   "display_name": "Python 3 (ipykernel)",
   "language": "python",
   "name": "python3"
  },
  "language_info": {
   "codemirror_mode": {
    "name": "ipython",
    "version": 3
   },
   "file_extension": ".py",
   "mimetype": "text/x-python",
   "name": "python",
   "nbconvert_exporter": "python",
   "pygments_lexer": "ipython3",
   "version": "3.7.3"
  }
 },
 "nbformat": 4,
 "nbformat_minor": 5
}
