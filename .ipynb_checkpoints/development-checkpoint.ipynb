{
 "cells": [
  {
   "cell_type": "code",
   "execution_count": 1,
   "id": "19df674c-452f-4a59-b310-636ffde5c3f6",
   "metadata": {},
   "outputs": [],
   "source": [
    "import pandas as pd\n",
    "import numpy as np\n",
    "import matplotlib.pyplot as plt\n",
    "from scipy.stats import gamma, poisson, linregress, norm, skew\n",
    "from scipy.stats import invgamma as ig\n",
    "from scipy.integrate import cumulative_trapezoid, trapezoid\n",
    "from scipy.special import gammainc\n",
    "from scipy.special import gamma as gf\n",
    "from scipy.special import beta as bf\n",
    "from scipy.special import betaln as lnbf\n",
    "from scipy.special import betainc as regincbf\n",
    "import math\n",
    "import time\n",
    "import random\n",
    "import pickle as pkl\n",
    "from scipy import optimize\n",
    "from craterdata import *\n",
    "import ash\n",
    "%matplotlib inline"
   ]
  },
  {
   "cell_type": "code",
   "execution_count": 3,
   "id": "a8d85fae-a1e1-492a-90a5-0bf7a63d92f3",
   "metadata": {},
   "outputs": [],
   "source": [
    "bin_counts, bin_array, bin_min, bin_max = bin_craters(\n",
    "    ds, bin_width_exponent=neukum_bwe, reference_point=1.0, \n",
    "    start_at_reference_point=False, d_max=None\n",
    ")"
   ]
  },
  {
   "cell_type": "code",
   "execution_count": 4,
   "id": "f8749c77-f424-40d0-8076-52c12f8fa8b0",
   "metadata": {},
   "outputs": [
    {
     "data": {
      "text/plain": [
       "array([ 12.17958095,  13.6990176 ,  15.54605404,  17.8675169 ,\n",
       "        20.06630227,  22.92615849,  26.09671856,  29.66983107,\n",
       "        33.67377086,  38.25085731,  43.06599474,  48.98470368,\n",
       "        56.34057943,  64.52295452,  71.13185032,  83.0729269 ,\n",
       "        95.96966398, 105.66389428, 121.97587438, 132.07742015,\n",
       "       166.27032672, 178.19180948, 202.50851712, 230.14357184,\n",
       "       261.54980745, 297.24185312, 357.42316903])"
      ]
     },
     "execution_count": 4,
     "metadata": {},
     "output_type": "execute_result"
    }
   ],
   "source": [
    "get_bin_parameters(\n",
    "    ds, bin_counts, bin_array, x_axis_position='gmean'\n",
    ")"
   ]
  },
  {
   "cell_type": "code",
   "execution_count": 8,
   "id": "602d1636-0d7f-4bc3-831e-8a75ce0bfbfb",
   "metadata": {},
   "outputs": [],
   "source": [
    "def get_bin_parameters(\n",
    "    ds, bin_counts, bin_array, x_axis_position='left'\n",
    "):\n",
    "    \n",
    "    if x_axis_position=='left':\n",
    "        x_array = bin_array[:-1]\n",
    "        \n",
    "    elif x_axis_position=='log_center':\n",
    "        x_array = np.sqrt(bin_array[:-1] * bin_array[1:])\n",
    "\n",
    "    elif x_axis_position=='linear_center':\n",
    "        x_array = (bin_array[:-1] + bin_array[1:]) / 2\n",
    "        \n",
    "    elif x_axis_position=='gmean':\n",
    "        x_array = (bin_array[:-1] + bin_array[1:]) / 2\n",
    "        x_array[bin_counts != 0] = np.array([\n",
    "            gmean(ds[np.digitize(ds, bin_array) == i]) \n",
    "            for i in np.array(range(1, len(bin_counts) + 1))[bin_counts != 0]\n",
    "        ])\n",
    "            \n",
    "    return x_array"
   ]
  },
  {
   "cell_type": "code",
   "execution_count": 3,
   "id": "20643fbd-5065-4ade-80fa-f555da0fac4e",
   "metadata": {},
   "outputs": [],
   "source": [
    "def lnincbf(x, a, b):\n",
    "    return lnbf(a, b) + np.log(regincbf(a, b, x))"
   ]
  },
  {
   "cell_type": "code",
   "execution_count": 4,
   "id": "6dbc88d0-31d4-448e-adb0-aa86687ad9c6",
   "metadata": {},
   "outputs": [
    {
     "name": "stdout",
     "output_type": "stream",
     "text": [
      "[-5281.77345706 -4557.50451437 -4242.98464551 ...   409.71683161\n",
      "   409.80475969   409.8926746 ]\n",
      "[4.51879759e-01 1.55171168e+00 2.65121269e+00 ... 4.02634539e+03\n",
      " 4.02671090e+03 4.02707637e+03]\n"
     ]
    },
    {
     "name": "stderr",
     "output_type": "stream",
     "text": [
      "/var/folders/h1/c6fm27mx0_s2s16rjtynr_hw0000gn/T/ipykernel_24048/3777646784.py:2: RuntimeWarning: divide by zero encountered in log\n",
      "  return lnbf(a, b) + np.log(regincbf(a, b, x))\n"
     ]
    }
   ],
   "source": [
    "dmin=10.0\n",
    "dmax=20.0\n",
    "alpha_min=1E-5\n",
    "alpha_max=10\n",
    "n_points=10000\n",
    "alpha=None\n",
    "\n",
    "if alpha is None:\n",
    "    a = np.linspace(alpha_min, alpha_max, n_points)\n",
    "else:\n",
    "    a = alpha\n",
    "\n",
    "Nmin = ds[ds >= dmin].shape[0]\n",
    "Nmax = ds[ds >= dmax].shape[0]\n",
    "deltaN = Nmin - Nmax\n",
    "\n",
    "alog_term = a * np.log10(dmax / dmin)\n",
    "a = a[alog_term > 1]\n",
    "alog_term = alog_term[alog_term > 1]\n",
    "\n",
    "lnnum = deltaN * np.log(np.abs(alog_term - 1))\n",
    "print(lnnum)\n",
    "lndenom1 = np.log(10) * (2 * deltaN + Nmax) * np.log(alog_term)\n",
    "print(lndenom1)\n",
    "lndenom2 = lnincbf(1 - alog_term**-1, deltaN + 1, Nmax + 1)"
   ]
  },
  {
   "cell_type": "code",
   "execution_count": 38,
   "id": "e6c2e9cb-d2d2-4769-9895-0ed3885e9644",
   "metadata": {},
   "outputs": [],
   "source": [
    "def incbf_series(x, a, b, n):\n",
    "    ts = [\n",
    "        x**(a + j) * (-1)**j / math.factorial(j) * np.prod(\n",
    "            [(b - i) for i in range(1, j + 1)]\n",
    "        ) / np.prod(\n",
    "            [(a + i) for i in range(1, j + 1)]\n",
    "        ) / a\n",
    "        for j in range(1, n)\n",
    "    ]\n",
    "    return np.sum([x**a / a] + ts)"
   ]
  },
  {
   "cell_type": "code",
   "execution_count": 74,
   "id": "00aabcff-520e-4267-aafa-38e2c816ea7a",
   "metadata": {},
   "outputs": [
    {
     "data": {
      "text/plain": [
       "3.9873592840027054e-134"
      ]
     },
     "execution_count": 74,
     "metadata": {},
     "output_type": "execute_result"
    }
   ],
   "source": [
    "incbf_series(6E-1, deltaN + 1, Nmax + 1, 10) "
   ]
  },
  {
   "cell_type": "code",
   "execution_count": 60,
   "id": "173e9fdb-0830-43b4-899a-b65a8e67d0dd",
   "metadata": {},
   "outputs": [
    {
     "data": {
      "text/plain": [
       "(588, 414)"
      ]
     },
     "execution_count": 60,
     "metadata": {},
     "output_type": "execute_result"
    }
   ],
   "source": [
    "deltaN + 1, Nmax + 1"
   ]
  },
  {
   "cell_type": "code",
   "execution_count": 75,
   "id": "12e9413c-d3c9-4950-ba04-179526c3c4c7",
   "metadata": {},
   "outputs": [
    {
     "data": {
      "text/plain": [
       "0.8011614010037986"
      ]
     },
     "execution_count": 75,
     "metadata": {},
     "output_type": "execute_result"
    }
   ],
   "source": [
    "regincbf(deltaN + 1, Nmax + 1, 6E-1)"
   ]
  },
  {
   "cell_type": "code",
   "execution_count": 77,
   "id": "ab10d8c3-54bf-4b95-a246-212e981e7926",
   "metadata": {},
   "outputs": [
    {
     "data": {
      "text/plain": [
       "1.475705829675341e-296"
      ]
     },
     "execution_count": 77,
     "metadata": {},
     "output_type": "execute_result"
    }
   ],
   "source": [
    "np.exp(lnbf(deltaN + 1, Nmax + 1))"
   ]
  },
  {
   "cell_type": "code",
   "execution_count": 31,
   "id": "5337869d-ebfe-4a12-99f1-6d9ae7a63ef6",
   "metadata": {},
   "outputs": [
    {
     "data": {
      "text/plain": [
       "array([0.        , 0.        , 0.        , ..., 0.99999995, 0.99999995,\n",
       "       0.99999995])"
      ]
     },
     "execution_count": 31,
     "metadata": {},
     "output_type": "execute_result"
    }
   ],
   "source": [
    "regincbf(deltaN + 1, Nmax + 1, 1 - alog_term**-1)"
   ]
  },
  {
   "cell_type": "code",
   "execution_count": 29,
   "id": "e0585927-6488-4a8e-aeb7-b89285e67d9f",
   "metadata": {},
   "outputs": [
    {
     "data": {
      "text/plain": [
       "5.2681628505719344e-33"
      ]
     },
     "execution_count": 29,
     "metadata": {},
     "output_type": "execute_result"
    }
   ],
   "source": [
    "regincbf(deltaN + 1, Nmax + 1, 4E-1)"
   ]
  },
  {
   "cell_type": "code",
   "execution_count": 28,
   "id": "7b4e47ed-a8a8-4a75-8506-1d88a0e8eb10",
   "metadata": {},
   "outputs": [
    {
     "data": {
      "text/plain": [
       "1.4757058296753943e-296"
      ]
     },
     "execution_count": 28,
     "metadata": {},
     "output_type": "execute_result"
    }
   ],
   "source": [
    "np.e**lnbf(deltaN + 1, Nmax + 1)"
   ]
  },
  {
   "cell_type": "code",
   "execution_count": 8,
   "id": "52f8f57c-d1cd-40f5-b847-a081c35839d1",
   "metadata": {},
   "outputs": [],
   "source": [
    "def rise_over_run_pdf_analytical(\n",
    "    ds, dmin=1.0, dmax=1E3, alpha_min=1E-5, alpha_max=10, \n",
    "    n_points=10000, alpha=None\n",
    "):\n",
    "    \n",
    "    if alpha is None:\n",
    "        a = np.linspace(alpha_min, alpha_max, n_points)\n",
    "    else:\n",
    "        a = alpha\n",
    "        \n",
    "    Nmin = ds[ds >= dmin].shape[0]\n",
    "    Nmax = ds[ds >= dmax].shape[0]\n",
    "    deltaN = Nmin - Nmax\n",
    "    \n",
    "    alog_term = a * np.log10(dmax / dmin)\n",
    "    a = a[alog_term > 1]\n",
    "    alog_term = alog_term[alog_term > 1]\n",
    "    \n",
    "    lnnum = deltaN * np.log(np.abs(alog_term - 1))\n",
    "    print(lnnum)\n",
    "    lndenom1 = np.log(10) * (2 * deltaN + Nmax) * np.log(alog_term)\n",
    "    print(lndenom1)\n",
    "    lndenom2 = lnincbf(1 - alog_term, deltaN + 1, Nmax + 1)\n",
    "    print(lndenom2)\n",
    "\n",
    "    # P = np.e**(lnnum - (lndenom1 + lndenom2))\n",
    "    # return RandomVariable(a, P, kind='mean')"
   ]
  },
  {
   "cell_type": "code",
   "execution_count": 9,
   "id": "dcd5baa4-d2fc-4916-b8ab-def0d3ef2404",
   "metadata": {},
   "outputs": [
    {
     "name": "stdout",
     "output_type": "stream",
     "text": [
      "[-5281.77345706 -4557.50451437 -4242.98464551 ...   409.71683161\n",
      "   409.80475969   409.8926746 ]\n",
      "[4.51879759e-01 1.55171168e+00 2.65121269e+00 ... 4.02634539e+03\n",
      " 4.02671090e+03 4.02707637e+03]\n",
      "[nan nan nan ... nan nan nan]\n",
      "-681.1760511223106\n",
      "0.00505 seconds\n"
     ]
    }
   ],
   "source": [
    "t1 = time.time()\n",
    "rr_rv = rise_over_run_pdf_analytical(ds, dmin=10, dmax=20)\n",
    "t2 = time.time()\n",
    "print(format_runtime(t2 - t1))"
   ]
  },
  {
   "cell_type": "code",
   "execution_count": null,
   "id": "fd0d572a-6583-434f-bd63-be12db13a018",
   "metadata": {},
   "outputs": [],
   "source": [
    "t1 = time.time()\n",
    "rr_rv = rise_over_run_pdf(ds, dmin=10, dmax=20)\n",
    "t2 = time.time()\n",
    "print(format_runtime(t2 - t1))"
   ]
  }
 ],
 "metadata": {
  "kernelspec": {
   "display_name": "Python 3 (ipykernel)",
   "language": "python",
   "name": "python3"
  },
  "language_info": {
   "codemirror_mode": {
    "name": "ipython",
    "version": 3
   },
   "file_extension": ".py",
   "mimetype": "text/x-python",
   "name": "python",
   "nbconvert_exporter": "python",
   "pygments_lexer": "ipython3",
   "version": "3.12.4"
  }
 },
 "nbformat": 4,
 "nbformat_minor": 5
}
