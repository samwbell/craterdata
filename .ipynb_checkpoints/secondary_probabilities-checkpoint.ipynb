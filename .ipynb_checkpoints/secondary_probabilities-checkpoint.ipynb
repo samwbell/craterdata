{
 "cells": [
  {
   "cell_type": "code",
   "execution_count": 2,
   "metadata": {},
   "outputs": [],
   "source": [
    "import pandas as pd\n",
    "import numpy as np\n",
    "import matplotlib.pyplot as plt\n",
    "from matplotlib.lines import Line2D\n",
    "from scipy.constants import G\n",
    "import math\n",
    "from scipy.stats.mstats import gmean\n",
    "from scipy.stats import gamma,poisson,linregress,beta,lognorm\n",
    "from scipy import optimize\n",
    "import time\n",
    "import random\n",
    "import pickle as pkl\n",
    "from multiprocessing import Pool\n",
    "from cratrcountr import *\n",
    "import ray\n",
    "%matplotlib inline"
   ]
  },
  {
   "cell_type": "code",
   "execution_count": 7,
   "metadata": {},
   "outputs": [],
   "source": [
    "def plot_pdf(T_pdf,P_pdf,ax='None',upshift=0,color='blue'):\n",
    "    if ax=='None':\n",
    "        fig = plt.figure(figsize=(10,2))\n",
    "        ax = fig.add_subplot(111)\n",
    "    ymax=max(P_pdf)\n",
    "    if P_pdf[0] <= 0.25*ymax:\n",
    "        Y_pdf = np.array([0] + list(np.array(P_pdf)/ymax))\n",
    "    else:\n",
    "        Y_pdf = np.array([max(P_pdf[0]-(P_pdf[1]-P_pdf[0])/((T_pdf[2]-T_pdf[1])/(T_pdf[1]-T_pdf[0])),0)/ymax] \\\n",
    "                         + list(np.array(P_pdf)/ymax))\n",
    "    X_pdf = np.array([0] + list(T_pdf))\n",
    "    Y_pdf = Y_pdf+upshift\n",
    "    ax.plot(X_pdf,Y_pdf,color,linewidth=2)\n",
    "    ilow,low1,med1,high1,ihigh = np.interp(np.array([0.13,1-0.841345,0.5,0.841345,0.87]),P_pdf.cumsum()/P_pdf.sum(),T_pdf)\n",
    "    max_val=X_pdf[Y_pdf.argmax()]\n",
    "    X_interp = np.linspace(ilow,ihigh,10000)\n",
    "    Y_interp = np.interp(X_interp,X_pdf,Y_pdf)\n",
    "    ax.fill_between(X_interp,upshift,Y_interp, where=((low1<X_interp)&(X_interp<high1)), facecolor=color, alpha=0.07)\n",
    "    ax.plot([med1,med1],[upshift,Y_interp[next(x[0] for x in enumerate(X_interp) if x[1] > med1)]],'--',color=color)\n",
    "    ax.plot([low1,low1],[upshift,Y_interp[next(x[0] for x in enumerate(X_interp) if x[1] > low1)]],':',color=color)\n",
    "    ax.plot([high1,high1],[upshift,Y_interp[next(x[0] for x in enumerate(X_interp) if x[1] > high1)]],':',color=color)\n",
    "    ax.plot([max_val,max_val],[upshift,Y_interp[next(x[0] for x in enumerate(X_interp) \\\n",
    "                        if x[1] > max_val)]],color=color)\n",
    "    return low1,med1,high1,max_val"
   ]
  },
  {
   "cell_type": "code",
   "execution_count": 2,
   "metadata": {},
   "outputs": [],
   "source": [
    "def poisson_error_bars(p,n,n_points=5000):\n",
    "    nrange = max(n*10.0,10.0)\n",
    "    inc = nrange/float(n_points)\n",
    "    X = np.arange(0.5*inc,nrange,inc)\n",
    "    Y = poisson.pmf(n,X)\n",
    "    Yc = np.cumsum(Y)/len(X)*nrange\n",
    "    cdfn = pd.DataFrame({'n':X,'cp':Yc})\n",
    "    return [cdfn[cdfn['cp']<cp].iloc[-1]['n'] for cp in [1.0-p,0.5,p]]"
   ]
  },
  {
   "cell_type": "code",
   "execution_count": 44,
   "metadata": {},
   "outputs": [],
   "source": [
    "if False:\n",
    "    n1=2000000\n",
    "    n2=100\n",
    "    rate=100\n",
    "    p_s=0.3\n",
    "    s_size=5\n",
    "    t1=time.time()\n",
    "    p = np.array([1-1.0/n2,(1-p_s)/n2,p_s/n2])\n",
    "    n_list = np.array([0,1,s_size])\n",
    "    n_steps = int(round(rate/(p*n_list).sum()))\n",
    "    trial_matrix = np.random.choice(n_list,(n_steps,n1),p=p)\n",
    "    t2=time.time()\n",
    "    rate_probs=[(pd.Series(sum(random.sample(list(trial_matrix),int(round(ratei/(p*n_list).sum()))))).\\\n",
    "                         value_counts()/n1)\\\n",
    "                        .sort_index().reindex(list(range(201)),fill_value=0) for ratei in np.arange(1,100,1)]\n",
    "    t3=time.time()\n",
    "    t2-t1,t3-t2,t3-t1\n",
    "    pkl.dump(rate_probs, open('rate_probs.pkl','wb'))\n",
    "else:\n",
    "    rate_probs = pkl.load(open('rate_probs.pkl','rb'))"
   ]
  },
  {
   "cell_type": "code",
   "execution_count": 3,
   "metadata": {},
   "outputs": [],
   "source": [
    "n_probs = np.array([99.0]+[1.0*lognorm.pdf(i,s=np.log(2),loc=1,scale=math.exp(np.log(49))) for i \\\n",
    "                           in list(range(2,50))])\n",
    "n_probs=n_probs/np.sum(n_probs)"
   ]
  },
  {
   "cell_type": "code",
   "execution_count": 5,
   "metadata": {},
   "outputs": [],
   "source": [
    "poisson_probs = np.array(np.histogram(ig_ndist(20,n_points=10000),bins=np.arange(0.5,100.5,1))[0]/10000)\n",
    "poisson_probs = poisson_probs/poisson_probs.sum()"
   ]
  },
  {
   "cell_type": "code",
   "execution_count": 42,
   "metadata": {},
   "outputs": [
    {
     "data": {
      "image/png": "[encoded data removed]",
      "text/plain": [
       "<Figure size 576x216 with 1 Axes>"
      ]
     },
     "metadata": {
      "needs_background": "light"
     },
     "output_type": "display_data"
    }
   ],
   "source": [
    "fig = plt.figure(figsize=(8,3))\n",
    "ax = fig.add_subplot(111)\n",
    "plot_pdf(np.arange(1,100,1),np.array([li.iloc[20] for li in rate_probs]),ax=ax, color='orange')\n",
    "plot_pdf(np.arange(1,100,1),poisson_probs,upshift=-1.05,ax=ax)\n",
    "plt.text(30,0.7,'68% Secondaries', size=20, color='orange')\n",
    "plt.text(30,-0.8,'No Secondaries', size=20, color='blue')\n",
    "plt.text(0.3,0.13,'N=20', size=20, color='orange')\n",
    "plt.text(0.3,-0.97,'N=20', size=20, color='blue')\n",
    "plt.xlabel('Cratering Rate Parameter λ', size=20)\n",
    "plt.xlim([0,50])\n",
    "plt.yticks([])\n",
    "plt.xticks(size=16)\n",
    "pfig=plt.gcf()\n",
    "pfig.savefig('../figs/lambdaSecondaryN20.pdf',bbox_inches='tight')"
   ]
  },
  {
   "cell_type": "code",
   "execution_count": 367,
   "metadata": {},
   "outputs": [],
   "source": [
    "def get_secondaries_pdf(n1=500000, n2=100, rate=10, p_s=0.1, s_size=5):\n",
    "    p = np.array([1-1.0/n2,(1-p_s)/n2,p_s/n2])\n",
    "    n_list = np.array([0,1,s_size])\n",
    "    n_steps = int(round(rate/(p*n_list).sum()))\n",
    "    trial_matrix = np.random.choice(n_list,(n_steps,n1),p=p)\n",
    "    return (pd.Series(np.sum(trial_matrix,0)).value_counts()/n1).sort_index()"
   ]
  },
  {
   "cell_type": "code",
   "execution_count": 389,
   "metadata": {},
   "outputs": [
    {
     "name": "stdout",
     "output_type": "stream",
     "text": [
      "69.94669604301453\n"
     ]
    }
   ],
   "source": [
    "if True:\n",
    "    t1=time.time()\n",
    "    # pool=Pool(5)\n",
    "    # def rate_wrapper(rate):\n",
    "    #     return get_secondaries_pdf(n1=50000, n2=100, rate=rate, p_s=0.1, s_size=5).iloc[10]\n",
    "    # rate_probs=pool.map(rate_wrapper,np.arange(1,40,1))\n",
    "    rate_probs=[get_secondaries_pdf(n1=50000, n2=100, rate=rate, p_s=0.1, s_size=5).\\\n",
    "                reindex(list(range(201)),fill_value=0)[:40].iloc[10] \\\n",
    "                for rate in np.arange(1,40,1)]\n",
    "    t2=time.time()\n",
    "    print(t2-t1)\n",
    "    pkl.dump(rate_probs, open('rate_probs.pkl','wb'))\n",
    "else:\n",
    "    rate_probs = pkl.load(open('rate_probs.pkl','rb'))"
   ]
  },
  {
   "cell_type": "code",
   "execution_count": 74,
   "metadata": {},
   "outputs": [
    {
     "ename": "Exception",
     "evalue": "Data must be 1-dimensional",
     "output_type": "error",
     "traceback": [
      "\u001b[0;31m---------------------------------------------------------------------------\u001b[0m",
      "\u001b[0;31mException\u001b[0m                                 Traceback (most recent call last)",
      "\u001b[0;32m<ipython-input-74-dbdb276f8a12>\u001b[0m in \u001b[0;36m<module>\u001b[0;34m\u001b[0m\n\u001b[1;32m      1\u001b[0m pd.DataFrame({'With Secondaries':np.array(rate_probs)/np.array(rate_probs).sum(),\\\n\u001b[0;32m----> 2\u001b[0;31m                 'Without Secondaries':poisson_probs},index=np.arange(1,40,1)).plot(style='.')\n\u001b[0m\u001b[1;32m      3\u001b[0m \u001b[0mplt\u001b[0m\u001b[0;34m.\u001b[0m\u001b[0mxlabel\u001b[0m\u001b[0;34m(\u001b[0m\u001b[0;34m'Cratering rate parameter λ'\u001b[0m\u001b[0;34m,\u001b[0m\u001b[0msize\u001b[0m\u001b[0;34m=\u001b[0m\u001b[0;36m16\u001b[0m\u001b[0;34m)\u001b[0m\u001b[0;34m\u001b[0m\u001b[0;34m\u001b[0m\u001b[0m\n\u001b[1;32m      4\u001b[0m \u001b[0mplt\u001b[0m\u001b[0;34m.\u001b[0m\u001b[0mylabel\u001b[0m\u001b[0;34m(\u001b[0m\u001b[0;34m'Relative probability'\u001b[0m\u001b[0;34m,\u001b[0m\u001b[0msize\u001b[0m\u001b[0;34m=\u001b[0m\u001b[0;36m16\u001b[0m\u001b[0;34m)\u001b[0m\u001b[0;34m\u001b[0m\u001b[0;34m\u001b[0m\u001b[0m\n\u001b[1;32m      5\u001b[0m \u001b[0mplt\u001b[0m\u001b[0;34m.\u001b[0m\u001b[0mtext\u001b[0m\u001b[0;34m(\u001b[0m\u001b[0;36m25\u001b[0m\u001b[0;34m,\u001b[0m\u001b[0;36m0.06\u001b[0m\u001b[0;34m,\u001b[0m\u001b[0;34m'N=10'\u001b[0m\u001b[0;34m,\u001b[0m\u001b[0msize\u001b[0m\u001b[0;34m=\u001b[0m\u001b[0;36m24\u001b[0m\u001b[0;34m)\u001b[0m\u001b[0;34m\u001b[0m\u001b[0;34m\u001b[0m\u001b[0m\n",
      "\u001b[0;32m/opt/miniconda3/lib/python3.7/site-packages/pandas/core/frame.py\u001b[0m in \u001b[0;36m__init__\u001b[0;34m(self, data, index, columns, dtype, copy)\u001b[0m\n\u001b[1;32m    409\u001b[0m             )\n\u001b[1;32m    410\u001b[0m         \u001b[0;32melif\u001b[0m \u001b[0misinstance\u001b[0m\u001b[0;34m(\u001b[0m\u001b[0mdata\u001b[0m\u001b[0;34m,\u001b[0m \u001b[0mdict\u001b[0m\u001b[0;34m)\u001b[0m\u001b[0;34m:\u001b[0m\u001b[0;34m\u001b[0m\u001b[0;34m\u001b[0m\u001b[0m\n\u001b[0;32m--> 411\u001b[0;31m             \u001b[0mmgr\u001b[0m \u001b[0;34m=\u001b[0m \u001b[0minit_dict\u001b[0m\u001b[0;34m(\u001b[0m\u001b[0mdata\u001b[0m\u001b[0;34m,\u001b[0m \u001b[0mindex\u001b[0m\u001b[0;34m,\u001b[0m \u001b[0mcolumns\u001b[0m\u001b[0;34m,\u001b[0m \u001b[0mdtype\u001b[0m\u001b[0;34m=\u001b[0m\u001b[0mdtype\u001b[0m\u001b[0;34m)\u001b[0m\u001b[0;34m\u001b[0m\u001b[0;34m\u001b[0m\u001b[0m\n\u001b[0m\u001b[1;32m    412\u001b[0m         \u001b[0;32melif\u001b[0m \u001b[0misinstance\u001b[0m\u001b[0;34m(\u001b[0m\u001b[0mdata\u001b[0m\u001b[0;34m,\u001b[0m \u001b[0mma\u001b[0m\u001b[0;34m.\u001b[0m\u001b[0mMaskedArray\u001b[0m\u001b[0;34m)\u001b[0m\u001b[0;34m:\u001b[0m\u001b[0;34m\u001b[0m\u001b[0;34m\u001b[0m\u001b[0m\n\u001b[1;32m    413\u001b[0m             \u001b[0;32mimport\u001b[0m \u001b[0mnumpy\u001b[0m\u001b[0;34m.\u001b[0m\u001b[0mma\u001b[0m\u001b[0;34m.\u001b[0m\u001b[0mmrecords\u001b[0m \u001b[0;32mas\u001b[0m \u001b[0mmrecords\u001b[0m\u001b[0;34m\u001b[0m\u001b[0;34m\u001b[0m\u001b[0m\n",
      "\u001b[0;32m/opt/miniconda3/lib/python3.7/site-packages/pandas/core/internals/construction.py\u001b[0m in \u001b[0;36minit_dict\u001b[0;34m(data, index, columns, dtype)\u001b[0m\n\u001b[1;32m    255\u001b[0m             \u001b[0marr\u001b[0m \u001b[0;32mif\u001b[0m \u001b[0;32mnot\u001b[0m \u001b[0mis_datetime64tz_dtype\u001b[0m\u001b[0;34m(\u001b[0m\u001b[0marr\u001b[0m\u001b[0;34m)\u001b[0m \u001b[0;32melse\u001b[0m \u001b[0marr\u001b[0m\u001b[0;34m.\u001b[0m\u001b[0mcopy\u001b[0m\u001b[0;34m(\u001b[0m\u001b[0;34m)\u001b[0m \u001b[0;32mfor\u001b[0m \u001b[0marr\u001b[0m \u001b[0;32min\u001b[0m \u001b[0marrays\u001b[0m\u001b[0;34m\u001b[0m\u001b[0;34m\u001b[0m\u001b[0m\n\u001b[1;32m    256\u001b[0m         ]\n\u001b[0;32m--> 257\u001b[0;31m     \u001b[0;32mreturn\u001b[0m \u001b[0marrays_to_mgr\u001b[0m\u001b[0;34m(\u001b[0m\u001b[0marrays\u001b[0m\u001b[0;34m,\u001b[0m \u001b[0mdata_names\u001b[0m\u001b[0;34m,\u001b[0m \u001b[0mindex\u001b[0m\u001b[0;34m,\u001b[0m \u001b[0mcolumns\u001b[0m\u001b[0;34m,\u001b[0m \u001b[0mdtype\u001b[0m\u001b[0;34m=\u001b[0m\u001b[0mdtype\u001b[0m\u001b[0;34m)\u001b[0m\u001b[0;34m\u001b[0m\u001b[0;34m\u001b[0m\u001b[0m\n\u001b[0m\u001b[1;32m    258\u001b[0m \u001b[0;34m\u001b[0m\u001b[0m\n\u001b[1;32m    259\u001b[0m \u001b[0;34m\u001b[0m\u001b[0m\n",
      "\u001b[0;32m/opt/miniconda3/lib/python3.7/site-packages/pandas/core/internals/construction.py\u001b[0m in \u001b[0;36marrays_to_mgr\u001b[0;34m(arrays, arr_names, index, columns, dtype)\u001b[0m\n\u001b[1;32m     80\u001b[0m \u001b[0;34m\u001b[0m\u001b[0m\n\u001b[1;32m     81\u001b[0m     \u001b[0;31m# don't force copy because getting jammed in an ndarray anyway\u001b[0m\u001b[0;34m\u001b[0m\u001b[0;34m\u001b[0m\u001b[0;34m\u001b[0m\u001b[0m\n\u001b[0;32m---> 82\u001b[0;31m     \u001b[0marrays\u001b[0m \u001b[0;34m=\u001b[0m \u001b[0m_homogenize\u001b[0m\u001b[0;34m(\u001b[0m\u001b[0marrays\u001b[0m\u001b[0;34m,\u001b[0m \u001b[0mindex\u001b[0m\u001b[0;34m,\u001b[0m \u001b[0mdtype\u001b[0m\u001b[0;34m)\u001b[0m\u001b[0;34m\u001b[0m\u001b[0;34m\u001b[0m\u001b[0m\n\u001b[0m\u001b[1;32m     83\u001b[0m \u001b[0;34m\u001b[0m\u001b[0m\n\u001b[1;32m     84\u001b[0m     \u001b[0;31m# from BlockManager perspective\u001b[0m\u001b[0;34m\u001b[0m\u001b[0;34m\u001b[0m\u001b[0;34m\u001b[0m\u001b[0m\n",
      "\u001b[0;32m/opt/miniconda3/lib/python3.7/site-packages/pandas/core/internals/construction.py\u001b[0m in \u001b[0;36m_homogenize\u001b[0;34m(data, index, dtype)\u001b[0m\n\u001b[1;32m    321\u001b[0m                 \u001b[0mval\u001b[0m \u001b[0;34m=\u001b[0m \u001b[0mlib\u001b[0m\u001b[0;34m.\u001b[0m\u001b[0mfast_multiget\u001b[0m\u001b[0;34m(\u001b[0m\u001b[0mval\u001b[0m\u001b[0;34m,\u001b[0m \u001b[0moindex\u001b[0m\u001b[0;34m.\u001b[0m\u001b[0mvalues\u001b[0m\u001b[0;34m,\u001b[0m \u001b[0mdefault\u001b[0m\u001b[0;34m=\u001b[0m\u001b[0mnp\u001b[0m\u001b[0;34m.\u001b[0m\u001b[0mnan\u001b[0m\u001b[0;34m)\u001b[0m\u001b[0;34m\u001b[0m\u001b[0;34m\u001b[0m\u001b[0m\n\u001b[1;32m    322\u001b[0m             val = sanitize_array(\n\u001b[0;32m--> 323\u001b[0;31m                 \u001b[0mval\u001b[0m\u001b[0;34m,\u001b[0m \u001b[0mindex\u001b[0m\u001b[0;34m,\u001b[0m \u001b[0mdtype\u001b[0m\u001b[0;34m=\u001b[0m\u001b[0mdtype\u001b[0m\u001b[0;34m,\u001b[0m \u001b[0mcopy\u001b[0m\u001b[0;34m=\u001b[0m\u001b[0;32mFalse\u001b[0m\u001b[0;34m,\u001b[0m \u001b[0mraise_cast_failure\u001b[0m\u001b[0;34m=\u001b[0m\u001b[0;32mFalse\u001b[0m\u001b[0;34m\u001b[0m\u001b[0;34m\u001b[0m\u001b[0m\n\u001b[0m\u001b[1;32m    324\u001b[0m             )\n\u001b[1;32m    325\u001b[0m \u001b[0;34m\u001b[0m\u001b[0m\n",
      "\u001b[0;32m/opt/miniconda3/lib/python3.7/site-packages/pandas/core/internals/construction.py\u001b[0m in \u001b[0;36msanitize_array\u001b[0;34m(data, index, dtype, copy, raise_cast_failure)\u001b[0m\n\u001b[1;32m    727\u001b[0m     \u001b[0;32melif\u001b[0m \u001b[0msubarr\u001b[0m\u001b[0;34m.\u001b[0m\u001b[0mndim\u001b[0m \u001b[0;34m>\u001b[0m \u001b[0;36m1\u001b[0m\u001b[0;34m:\u001b[0m\u001b[0;34m\u001b[0m\u001b[0;34m\u001b[0m\u001b[0m\n\u001b[1;32m    728\u001b[0m         \u001b[0;32mif\u001b[0m \u001b[0misinstance\u001b[0m\u001b[0;34m(\u001b[0m\u001b[0mdata\u001b[0m\u001b[0;34m,\u001b[0m \u001b[0mnp\u001b[0m\u001b[0;34m.\u001b[0m\u001b[0mndarray\u001b[0m\u001b[0;34m)\u001b[0m\u001b[0;34m:\u001b[0m\u001b[0;34m\u001b[0m\u001b[0;34m\u001b[0m\u001b[0m\n\u001b[0;32m--> 729\u001b[0;31m             \u001b[0;32mraise\u001b[0m \u001b[0mException\u001b[0m\u001b[0;34m(\u001b[0m\u001b[0;34m\"Data must be 1-dimensional\"\u001b[0m\u001b[0;34m)\u001b[0m\u001b[0;34m\u001b[0m\u001b[0;34m\u001b[0m\u001b[0m\n\u001b[0m\u001b[1;32m    730\u001b[0m         \u001b[0;32melse\u001b[0m\u001b[0;34m:\u001b[0m\u001b[0;34m\u001b[0m\u001b[0;34m\u001b[0m\u001b[0m\n\u001b[1;32m    731\u001b[0m             \u001b[0msubarr\u001b[0m \u001b[0;34m=\u001b[0m \u001b[0mcom\u001b[0m\u001b[0;34m.\u001b[0m\u001b[0masarray_tuplesafe\u001b[0m\u001b[0;34m(\u001b[0m\u001b[0mdata\u001b[0m\u001b[0;34m,\u001b[0m \u001b[0mdtype\u001b[0m\u001b[0;34m=\u001b[0m\u001b[0mdtype\u001b[0m\u001b[0;34m)\u001b[0m\u001b[0;34m\u001b[0m\u001b[0;34m\u001b[0m\u001b[0m\n",
      "\u001b[0;31mException\u001b[0m: Data must be 1-dimensional"
     ]
    }
   ],
   "source": [
    "pd.DataFrame({'With Secondaries':np.array(rate_probs)/np.array(rate_probs).sum(),\\\n",
    "                'Without Secondaries':poisson_probs},index=np.arange(1,40,1)).plot(style='.')\n",
    "plt.xlabel('Cratering rate parameter λ',size=16)\n",
    "plt.ylabel('Relative probability',size=16)\n",
    "plt.text(25,0.06,'N=10',size=24)\n",
    "sfig = plt.gcf()\n",
    "sfig.savefig('../figs/Secondaries_PDF_lambda.pdf', b_box_inches='tight')"
   ]
  },
  {
   "cell_type": "code",
   "execution_count": 67,
   "metadata": {},
   "outputs": [
    {
     "name": "stdout",
     "output_type": "stream",
     "text": [
      "6.1615190505981445\n",
      "6.299178123474121\n"
     ]
    }
   ],
   "source": [
    "t1=time.time()\n",
    "n1=500000\n",
    "n2=100\n",
    "rate = 3\n",
    "p_s = 0.1\n",
    "p = np.array([1-1.0/n2,1.0/n2])\n",
    "n_list = np.array([0,1])\n",
    "n_steps = int(round(rate/(p*n_list).sum()))\n",
    "ta=time.time()\n",
    "trial_matrix = np.random.choice(n_list,(n_steps,n1),p=p)\n",
    "tb=time.time()\n",
    "print(tb-ta)\n",
    "prob_df_p = pd.DataFrame((pd.Series(np.sum(trial_matrix,0)).\\\n",
    "                    value_counts()/n1).sort_index().reindex(list(range(201)),fill_value=0),columns=['numerical'])\n",
    "t2=time.time()\n",
    "print(t2-t1)\n",
    "prob_df_p = prob_df_p.assign(analytical=poisson.pmf(np.array(prob_df_p.index),rate))"
   ]
  },
  {
   "cell_type": "code",
   "execution_count": 68,
   "metadata": {},
   "outputs": [
    {
     "data": {
      "image/png": "[encoded data removed]",
      "text/plain": [
       "<Figure size 360x180 with 1 Axes>"
      ]
     },
     "metadata": {
      "needs_background": "light"
     },
     "output_type": "display_data"
    }
   ],
   "source": [
    "fig=plt.figure(figsize=(5,2.5))\n",
    "ax=fig.add_subplot(111)\n",
    "prob_df_p.plot(style=['.','-'],ms=15,ax=ax)\n",
    "plt.xlabel('N (Number of Craters Observed)',size=14)\n",
    "plt.ylabel('Relative Probability',size=14)\n",
    "plt.yticks([])\n",
    "plt.text(9,0.09,'λ=3',size=24)\n",
    "plt.xlim([-0.5,15.5])\n",
    "plt.tight_layout()\n",
    "sfig = plt.gcf()\n",
    "sfig.savefig('../figs/Numerical_Poisson_demonstration.pdf', b_box_inches='tight')"
   ]
  },
  {
   "cell_type": "code",
   "execution_count": 3,
   "metadata": {},
   "outputs": [
    {
     "name": "stdout",
     "output_type": "stream",
     "text": [
      "631.0873658657074\n",
      "683.5912508964539\n"
     ]
    }
   ],
   "source": [
    "t1=time.time()\n",
    "n1=5000000\n",
    "n2=200\n",
    "rate = 20\n",
    "p_s = 0.3\n",
    "s_size=5\n",
    "p = np.array([1-1.0/n2,(1-p_s)/n2,p_s/n2])\n",
    "n_list = np.array([0,1,s_size])\n",
    "n_steps = int(round(rate/(p*n_list).sum()))\n",
    "ta=time.time()\n",
    "trial_matrix = np.random.choice(n_list,(n_steps,n1),p=p)\n",
    "tb=time.time()\n",
    "print(tb-ta)\n",
    "prob_df = pd.DataFrame((pd.Series(np.sum(trial_matrix,0)).\\\n",
    "            value_counts()/n1).sort_index().reindex(list(range(201)),fill_value=0),columns=['68% Secondaries'])\n",
    "t2=time.time()\n",
    "print(t2-t1)\n",
    "prob_df['No Secondaries'] = poisson.pmf(np.array(prob_df.index),rate)"
   ]
  },
  {
   "cell_type": "code",
   "execution_count": 7,
   "metadata": {},
   "outputs": [
    {
     "data": {
      "image/png": "[encoded data removed]",
      "text/plain": [
       "<Figure size 360x180 with 1 Axes>"
      ]
     },
     "metadata": {
      "needs_background": "light"
     },
     "output_type": "display_data"
    }
   ],
   "source": [
    "fig=plt.figure(figsize=(5,2.5))\n",
    "ax=fig.add_subplot(111)\n",
    "prob_df.plot(style='.',color=['orange','blue'],ax=ax)\n",
    "plt.xlabel('N (Number of Craters Observed)',size=14)\n",
    "plt.ylabel('Relative Probability',size=14)\n",
    "plt.yticks([])\n",
    "plt.text(37,0.04,'λ=20',size=24)\n",
    "plt.xlim([0.,50.5])\n",
    "plt.tight_layout()\n",
    "sfig = plt.gcf()\n",
    "sfig.savefig('../figs/Secondaries_PDF_N_68.pdf', b_box_inches='tight')"
   ]
  },
  {
   "cell_type": "code",
   "execution_count": 264,
   "metadata": {},
   "outputs": [
    {
     "data": {
      "text/html": [
       "<div>\n",
       "<style scoped>\n",
       "    .dataframe tbody tr th:only-of-type {\n",
       "        vertical-align: middle;\n",
       "    }\n",
       "\n",
       "    .dataframe tbody tr th {\n",
       "        vertical-align: top;\n",
       "    }\n",
       "\n",
       "    .dataframe thead th {\n",
       "        text-align: right;\n",
       "    }\n",
       "</style>\n",
       "<table border=\"1\" class=\"dataframe\">\n",
       "  <thead>\n",
       "    <tr style=\"text-align: right;\">\n",
       "      <th></th>\n",
       "      <th>empirical</th>\n",
       "      <th>true</th>\n",
       "    </tr>\n",
       "  </thead>\n",
       "  <tbody>\n",
       "    <tr>\n",
       "      <td>0</td>\n",
       "      <td>0.00715</td>\n",
       "      <td>0.006738</td>\n",
       "    </tr>\n",
       "    <tr>\n",
       "      <td>1</td>\n",
       "      <td>0.03416</td>\n",
       "      <td>0.033690</td>\n",
       "    </tr>\n",
       "    <tr>\n",
       "      <td>2</td>\n",
       "      <td>0.08307</td>\n",
       "      <td>0.084224</td>\n",
       "    </tr>\n",
       "    <tr>\n",
       "      <td>3</td>\n",
       "      <td>0.14119</td>\n",
       "      <td>0.140374</td>\n",
       "    </tr>\n",
       "    <tr>\n",
       "      <td>4</td>\n",
       "      <td>0.17653</td>\n",
       "      <td>0.175467</td>\n",
       "    </tr>\n",
       "    <tr>\n",
       "      <td>5</td>\n",
       "      <td>0.17747</td>\n",
       "      <td>0.175467</td>\n",
       "    </tr>\n",
       "    <tr>\n",
       "      <td>6</td>\n",
       "      <td>0.14486</td>\n",
       "      <td>0.146223</td>\n",
       "    </tr>\n",
       "    <tr>\n",
       "      <td>7</td>\n",
       "      <td>0.10540</td>\n",
       "      <td>0.104445</td>\n",
       "    </tr>\n",
       "    <tr>\n",
       "      <td>8</td>\n",
       "      <td>0.06451</td>\n",
       "      <td>0.065278</td>\n",
       "    </tr>\n",
       "    <tr>\n",
       "      <td>9</td>\n",
       "      <td>0.03574</td>\n",
       "      <td>0.036266</td>\n",
       "    </tr>\n",
       "    <tr>\n",
       "      <td>10</td>\n",
       "      <td>0.01716</td>\n",
       "      <td>0.018133</td>\n",
       "    </tr>\n",
       "    <tr>\n",
       "      <td>11</td>\n",
       "      <td>0.00768</td>\n",
       "      <td>0.008242</td>\n",
       "    </tr>\n",
       "    <tr>\n",
       "      <td>12</td>\n",
       "      <td>0.00319</td>\n",
       "      <td>0.003434</td>\n",
       "    </tr>\n",
       "    <tr>\n",
       "      <td>13</td>\n",
       "      <td>0.00129</td>\n",
       "      <td>0.001321</td>\n",
       "    </tr>\n",
       "    <tr>\n",
       "      <td>14</td>\n",
       "      <td>0.00035</td>\n",
       "      <td>0.000472</td>\n",
       "    </tr>\n",
       "    <tr>\n",
       "      <td>15</td>\n",
       "      <td>0.00015</td>\n",
       "      <td>0.000157</td>\n",
       "    </tr>\n",
       "    <tr>\n",
       "      <td>16</td>\n",
       "      <td>0.00010</td>\n",
       "      <td>0.000049</td>\n",
       "    </tr>\n",
       "  </tbody>\n",
       "</table>\n",
       "</div>"
      ],
      "text/plain": [
       "    empirical      true\n",
       "0     0.00715  0.006738\n",
       "1     0.03416  0.033690\n",
       "2     0.08307  0.084224\n",
       "3     0.14119  0.140374\n",
       "4     0.17653  0.175467\n",
       "5     0.17747  0.175467\n",
       "6     0.14486  0.146223\n",
       "7     0.10540  0.104445\n",
       "8     0.06451  0.065278\n",
       "9     0.03574  0.036266\n",
       "10    0.01716  0.018133\n",
       "11    0.00768  0.008242\n",
       "12    0.00319  0.003434\n",
       "13    0.00129  0.001321\n",
       "14    0.00035  0.000472\n",
       "15    0.00015  0.000157\n",
       "16    0.00010  0.000049"
      ]
     },
     "execution_count": 264,
     "metadata": {},
     "output_type": "execute_result"
    }
   ],
   "source": [
    "prob_df.assign(true=poisson.pmf(np.array(prob_df.index),rate))"
   ]
  },
  {
   "cell_type": "code",
   "execution_count": 237,
   "metadata": {},
   "outputs": [
    {
     "data": {
      "text/plain": [
       "28.884145975112915"
      ]
     },
     "execution_count": 237,
     "metadata": {},
     "output_type": "execute_result"
    }
   ],
   "source": [
    "t1=time.time()\n",
    "n1=1000000\n",
    "n2=100\n",
    "rate = 3\n",
    "(pd.Series([np.random.choice([0,1],rate*n2,p=[1-1.0/n2,1.0/n2]).sum() \\\n",
    "            for i in range(n1)]).value_counts()/n1).sort_index()\n",
    "t2=time.time()\n",
    "t2-t1"
   ]
  },
  {
   "cell_type": "code",
   "execution_count": 221,
   "metadata": {},
   "outputs": [
    {
     "data": {
      "text/plain": [
       "array([0.04978707, 0.14936121, 0.22404181, 0.22404181, 0.16803136,\n",
       "       0.10081881, 0.05040941, 0.02160403, 0.00810151, 0.0027005 ,\n",
       "       0.00081015])"
      ]
     },
     "execution_count": 221,
     "metadata": {},
     "output_type": "execute_result"
    }
   ],
   "source": [
    "poisson.pmf(np.arange(0,11,1),3)"
   ]
  },
  {
   "cell_type": "code",
   "execution_count": 182,
   "metadata": {},
   "outputs": [],
   "source": [
    "p=p_1_sigma\n",
    "n_points=5000\n",
    "n=10\n",
    "nrange = max(n*50.0,50.0)\n",
    "inc = nrange/float(n_points)\n",
    "X = np.arange(0.5*inc,nrange,inc)\n",
    "Y = sum([n_probs[n-1] * poisson.pmf(n,X) for n in list(range(1,50))])\n",
    "Y = Y/np.cumsum(Y)\n",
    "Yc = np.cumsum(Y)/len(X)*nrange\n",
    "cdfn = pd.DataFrame({'n':X,'cp':Yc})\n",
    "pdfn = [cdfn[cdfn['cp']<cp].iloc[-1]['n'] for cp in [1.0-p,0.5,p]]"
   ]
  },
  {
   "cell_type": "code",
   "execution_count": null,
   "metadata": {},
   "outputs": [],
   "source": []
  }
 ],
 "metadata": {
  "kernelspec": {
   "display_name": "Python 3",
   "language": "python",
   "name": "python3"
  },
  "language_info": {
   "codemirror_mode": {
    "name": "ipython",
    "version": 3
   },
   "file_extension": ".py",
   "mimetype": "text/x-python",
   "name": "python",
   "nbconvert_exporter": "python",
   "pygments_lexer": "ipython3",
   "version": "3.7.3"
  }
 },
 "nbformat": 4,
 "nbformat_minor": 4
}
