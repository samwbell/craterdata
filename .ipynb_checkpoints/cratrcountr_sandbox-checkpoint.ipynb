{
 "cells": [
  {
   "cell_type": "code",
   "execution_count": 1,
   "metadata": {},
   "outputs": [],
   "source": [
    "import pandas as pd\n",
    "import numpy as np\n",
    "import matplotlib.pyplot as plt\n",
    "from matplotlib.lines import Line2D\n",
    "from scipy.constants import G\n",
    "import math\n",
    "from scipy.stats.mstats import gmean\n",
    "from scipy.stats import gamma,poisson,linregress,beta\n",
    "from scipy import optimize\n",
    "import time\n",
    "import random\n",
    "import pickle as pkl\n",
    "from multiprocessing import Pool\n",
    "from cratrcountr import *\n",
    "%matplotlib inline"
   ]
  },
  {
   "cell_type": "code",
   "execution_count": null,
   "metadata": {},
   "outputs": [],
   "source": []
  },
  {
   "cell_type": "code",
   "execution_count": null,
   "metadata": {},
   "outputs": [],
   "source": [
    "def poisson_error_bars(p,n,n_points=5000):\n",
    "    nrange = max(n*10.0,10.0)\n",
    "    inc = nrange/float(n_points)\n",
    "    X = np.arange(0.5*inc,nrange,inc)\n",
    "    Y = [poisson.pmf(n,m) for m in X]\n",
    "    Yc = np.cumsum(Y)/len(X)*nrange\n",
    "    cdfn = pd.DataFrame({'n':X,'cp':Yc})\n",
    "    return [cdfn[cdfn['cp']<cp].iloc[-1]['n'] for cp in [1.0-p,0.5,p]]"
   ]
  },
  {
   "cell_type": "code",
   "execution_count": null,
   "metadata": {},
   "outputs": [],
   "source": []
  },
  {
   "cell_type": "code",
   "execution_count": null,
   "metadata": {},
   "outputs": [],
   "source": []
  },
  {
   "cell_type": "code",
   "execution_count": null,
   "metadata": {},
   "outputs": [],
   "source": []
  },
  {
   "cell_type": "code",
   "execution_count": null,
   "metadata": {},
   "outputs": [],
   "source": []
  },
  {
   "cell_type": "code",
   "execution_count": null,
   "metadata": {},
   "outputs": [],
   "source": [
    "rawd = pd.read_csv('M146959973L.txt',delimiter='\\t')*0.626608880720610\n",
    "ds = np.array(sorted(rawd['D_wm'].tolist()))/1000\n",
    "area = 4000*2215*0.626608880720610**2/1000000"
   ]
  },
  {
   "cell_type": "code",
   "execution_count": 93,
   "metadata": {},
   "outputs": [],
   "source": [
    "n_dist = ig_ndist(10,10000)/50000\n",
    "f_ndist = ncf_inv(n_dist,nseg=10000)"
   ]
  },
  {
   "cell_type": "code",
   "execution_count": 651,
   "metadata": {},
   "outputs": [],
   "source": [
    "def poisson_timing_pr(n_craters,t,area,d_min,d_max):\n",
    "    return math.exp(n_craters-area*ncf(t)/ncf(1)*(npf_new(d_min) - npf_new(d_max)))\\\n",
    "        * (ncf(t)/ncf(1))**n_craters\n",
    "def poisson_timing_p(p,n_craters,t,area,d_min,d_max,n_points=1000):\n",
    "    p_array=np.array(p)\n",
    "    "
   ]
  },
  {
   "cell_type": "code",
   "execution_count": 652,
   "metadata": {},
   "outputs": [
    {
     "data": {
      "text/plain": [
       "317.7948624606471"
      ]
     },
     "execution_count": 652,
     "metadata": {},
     "output_type": "execute_result"
    }
   ],
   "source": [
    "t=1.07\n",
    "n_craters=2560\n",
    "area=100\n",
    "d_min=0.05\n",
    "d_max=0.17\n",
    "math.exp(-1*area*ncf(t)/ncf(1)*(npf_new(d_min) - npf_new(d_max))+2500)* (ncf(t)/ncf(1))**n_craters\n",
    "#poisson_timing_pr(2560,t,100,0.05,0.17)"
   ]
  },
  {
   "cell_type": "code",
   "execution_count": 653,
   "metadata": {},
   "outputs": [
    {
     "data": {
      "text/plain": [
       "[<matplotlib.lines.Line2D at 0x7fa243141eb8>]"
      ]
     },
     "execution_count": 653,
     "metadata": {},
     "output_type": "execute_result"
    },
    {
     "data": {
      "image/png": "[encoded data removed]",
      "text/plain": [
       "<Figure size 432x288 with 1 Axes>"
      ]
     },
     "metadata": {
      "needs_background": "light"
     },
     "output_type": "display_data"
    }
   ],
   "source": [
    "t_array=np.linspace(0.9,1.1,10000)\n",
    "pr = np.array([poisson_timing_pr(2560,t,100,0.05,0.17) for t in t_array])\n",
    "plt.plot(t_array,np.cumsum(pr)/sum(pr))"
   ]
  },
  {
   "cell_type": "code",
   "execution_count": 654,
   "metadata": {},
   "outputs": [
    {
     "data": {
      "text/plain": [
       "1.0474547454745475"
      ]
     },
     "execution_count": 654,
     "metadata": {},
     "output_type": "execute_result"
    }
   ],
   "source": [
    "idx=np.argmin(abs(np.cumsum(pr)/sum(pr)-0.84))\n",
    "t_array[idx]"
   ]
  },
  {
   "cell_type": "code",
   "execution_count": 655,
   "metadata": {},
   "outputs": [
    {
     "name": "stdout",
     "output_type": "stream",
     "text": [
      "1.0271678024104094\n",
      "0.020164855287745587\n",
      "0.020432273954150315\n"
     ]
    }
   ],
   "source": [
    "n_craters=2560\n",
    "area=100\n",
    "d_min=0.05\n",
    "d_max=0.17\n",
    "print(ig_50(n_craters)/(area*(npf_new(d_min)-npf_new(d_max))))\n",
    "print(ig_lower(n_craters)/(area*(npf_new(d_min)-npf_new(d_max))))\n",
    "print(ig_upper(n_craters)/(area*(npf_new(d_min)-npf_new(d_max))))"
   ]
  },
  {
   "cell_type": "code",
   "execution_count": 545,
   "metadata": {},
   "outputs": [
    {
     "data": {
      "text/plain": [
       "1.0018377192965926"
      ]
     },
     "execution_count": 545,
     "metadata": {},
     "output_type": "execute_result"
    }
   ],
   "source": [
    "1.0271678024104094/norm"
   ]
  },
  {
   "cell_type": "code",
   "execution_count": 540,
   "metadata": {},
   "outputs": [
    {
     "name": "stdout",
     "output_type": "stream",
     "text": [
      "0.6690586605327644\n",
      "0.3269571554799202\n",
      "0.49134963829291095\n"
     ]
    }
   ],
   "source": [
    "n_craters=2\n",
    "area=100\n",
    "d_min=0.35\n",
    "d_max=10\n",
    "print(ig_50(n_craters)/(area*(npf_new(d_min)-npf_new(d_max))))\n",
    "print(ig_lower(n_craters)/(area*(npf_new(d_min)-npf_new(d_max))))\n",
    "print(ig_upper(n_craters)/(area*(npf_new(d_min)-npf_new(d_max))))"
   ]
  },
  {
   "cell_type": "code",
   "execution_count": 539,
   "metadata": {},
   "outputs": [
    {
     "name": "stdout",
     "output_type": "stream",
     "text": [
      "1.1422769471921417\n",
      "0.20007799279986901\n",
      "0.2266075213982242\n"
     ]
    }
   ],
   "source": [
    "n_craters=28\n",
    "area=100\n",
    "d_min=0.2\n",
    "d_max=0.35\n",
    "print(ig_50(n_craters)/(area*(npf_new(d_min)-npf_new(d_max))))\n",
    "print(ig_lower(n_craters)/(area*(npf_new(d_min)-npf_new(d_max))))\n",
    "print(ig_upper(n_craters)/(area*(npf_new(d_min)-npf_new(d_max))))"
   ]
  },
  {
   "cell_type": "code",
   "execution_count": 538,
   "metadata": {},
   "outputs": [
    {
     "data": {
      "text/plain": [
       "1.0000000679341838"
      ]
     },
     "execution_count": 538,
     "metadata": {},
     "output_type": "execute_result"
    }
   ],
   "source": [
    "ncf(1)/npf_new(1)"
   ]
  },
  {
   "cell_type": "code",
   "execution_count": 543,
   "metadata": {},
   "outputs": [
    {
     "data": {
      "text/plain": [
       "[<matplotlib.lines.Line2D at 0x13635f6a0>]"
      ]
     },
     "execution_count": 543,
     "metadata": {},
     "output_type": "execute_result"
    },
    {
     "data": {
      "image/png": "[encoded data removed]",
      "text/plain": [
       "<Figure size 432x288 with 1 Axes>"
      ]
     },
     "metadata": {
      "needs_background": "light"
     },
     "output_type": "display_data"
    }
   ],
   "source": [
    "rtrns=plt.hist(ig_ndist(n_craters,10000)/(100*(npf_new(0.05)-npf_new(0.17))),\\\n",
    "               bins=500,density=True)\n",
    "plt.plot(t_array,pr/(sum(pr)*0.2/100))"
   ]
  },
  {
   "cell_type": "code",
   "execution_count": null,
   "metadata": {},
   "outputs": [],
   "source": []
  }
 ],
 "metadata": {
  "kernelspec": {
   "display_name": "Python 3",
   "language": "python",
   "name": "python3"
  },
  "language_info": {
   "codemirror_mode": {
    "name": "ipython",
    "version": 3
   },
   "file_extension": ".py",
   "mimetype": "text/x-python",
   "name": "python",
   "nbconvert_exporter": "python",
   "pygments_lexer": "ipython3",
   "version": "3.7.3"
  }
 },
 "nbformat": 4,
 "nbformat_minor": 4
}
