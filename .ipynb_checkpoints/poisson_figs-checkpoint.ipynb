{
 "cells": [
  {
   "cell_type": "markdown",
   "id": "fbf7d683-eb0a-4382-820a-3572c1083e1f",
   "metadata": {},
   "source": [
    "Used for generating figures for a talk.  White on transparent background."
   ]
  },
  {
   "cell_type": "code",
   "execution_count": 1,
   "id": "f39cc770-3b51-490e-bad7-b82b1929b4ee",
   "metadata": {},
   "outputs": [],
   "source": [
    "import pandas as pd\n",
    "import numpy as np\n",
    "import matplotlib.pyplot as plt\n",
    "from matplotlib.lines import Line2D\n",
    "import matplotlib.gridspec as gridspec\n",
    "from matplotlib.ticker import ScalarFormatter\n",
    "import math\n",
    "from scipy.stats.mstats import gmean\n",
    "from scipy.stats import gamma, poisson, linregress, beta, norm\n",
    "from scipy import optimize\n",
    "from scipy import interpolate\n",
    "import time\n",
    "import random\n",
    "import pickle as pkl\n",
    "from craterdata import *\n",
    "%matplotlib inline"
   ]
  },
  {
   "cell_type": "code",
   "execution_count": 2,
   "id": "ad022247-764a-4a9f-b9b9-32ccf079a626",
   "metadata": {},
   "outputs": [
    {
     "data": {
      "image/png": "[encoded data removed]",
      "text/plain": [
       "<Figure size 900x200 with 1 Axes>"
      ]
     },
     "metadata": {},
     "output_type": "display_data"
    }
   ],
   "source": [
    "N = 3\n",
    "rv = true_error_pdf(N)\n",
    "fig = plt.figure(figsize=(9, 2))\n",
    "plt.plot(rv.X, rv.P, 'w')\n",
    "plt.xlim([-0.5, 13.9])\n",
    "plt.xticks(np.arange(13), size=12)\n",
    "plt.text(2, 0.2 * rv.P.max(), 'N = ' + str(N), size=24, color='w')\n",
    "plt.gca().spines['bottom'].set_color('w') \n",
    "plt.gca().tick_params(axis='x', colors='w')\n",
    "erase_box(plt.gca())\n",
    "pfig = plt.gcf()\n",
    "pfig.savefig(\n",
    "    'figs/poisson_N3.pdf', bbox_inches='tight', \n",
    "    transparent=True\n",
    ")"
   ]
  },
  {
   "cell_type": "code",
   "execution_count": 3,
   "id": "fcd92d61-a686-4099-b505-4fd6b893845c",
   "metadata": {},
   "outputs": [
    {
     "data": {
      "image/png": "[encoded data removed]",
      "text/plain": [
       "<Figure size 900x200 with 1 Axes>"
      ]
     },
     "metadata": {},
     "output_type": "display_data"
    }
   ],
   "source": [
    "Ns = np.arange(12)\n",
    "λ = 3\n",
    "P = poisson.pmf(Ns, λ)\n",
    "fig = plt.figure(figsize=(9, 2))\n",
    "plt.plot(Ns, P, 'w.')\n",
    "plt.xlim([-0.5, 13.9])\n",
    "plt.xticks(np.arange(13), size=12)\n",
    "plt.text(2, 0.2 * rv.P.max(), 'λ = ' + str(λ), size=24, color='w')\n",
    "plt.gca().spines['bottom'].set_color('w') \n",
    "plt.gca().tick_params(axis='x', colors='w')\n",
    "erase_box(plt.gca())\n",
    "pfig = plt.gcf()\n",
    "pfig.savefig(\n",
    "    'figs/poisson_lambda3.pdf', bbox_inches='tight', \n",
    "    transparent=True\n",
    ")"
   ]
  },
  {
   "cell_type": "code",
   "execution_count": 4,
   "id": "63a0615e-e514-4886-8555-0d9a54b3cec2",
   "metadata": {},
   "outputs": [
    {
     "data": {
      "text/plain": [
       "0.22404180765538775"
      ]
     },
     "execution_count": 4,
     "metadata": {},
     "output_type": "execute_result"
    }
   ],
   "source": [
    "poisson.pmf(3, 3)"
   ]
  },
  {
   "cell_type": "code",
   "execution_count": null,
   "id": "653e957a-fac1-41e6-98b2-2ddd0681afa3",
   "metadata": {},
   "outputs": [],
   "source": []
  }
 ],
 "metadata": {
  "kernelspec": {
   "display_name": "Python 3 (ipykernel)",
   "language": "python",
   "name": "python3"
  },
  "language_info": {
   "codemirror_mode": {
    "name": "ipython",
    "version": 3
   },
   "file_extension": ".py",
   "mimetype": "text/x-python",
   "name": "python",
   "nbconvert_exporter": "python",
   "pygments_lexer": "ipython3",
   "version": "3.12.4"
  }
 },
 "nbformat": 4,
 "nbformat_minor": 5
}
